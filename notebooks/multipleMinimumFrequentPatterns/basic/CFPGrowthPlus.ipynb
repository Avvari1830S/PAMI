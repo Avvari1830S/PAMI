{
  "cells": [
    {
      "cell_type": "markdown",
      "metadata": {
        "id": "view-in-github",
        "colab_type": "text"
      },
      "source": [
        "<a href=\"https://colab.research.google.com/github/vanithakattumuri/PAMI/blob/main/notebooks/multipleMinimumFrequentPatterns/basic/CFPGrowthPlus.ipynb\" target=\"_parent\"><img src=\"https://colab.research.google.com/assets/colab-badge.svg\" alt=\"Open In Colab\"/></a>"
      ]
    },
    {
      "cell_type": "markdown",
      "id": "e960ba75-7c84-45aa-bbca-f6eca0f8731b",
      "metadata": {
        "tags": [],
        "id": "e960ba75-7c84-45aa-bbca-f6eca0f8731b"
      },
      "source": [
        "# Finding Frequent patterns in Transactional Databases using CFPGrowthPlus Algorithm"
      ]
    },
    {
      "cell_type": "markdown",
      "id": "d71c53a8-9c59-4220-ad59-92ec26b39c42",
      "metadata": {
        "id": "d71c53a8-9c59-4220-ad59-92ec26b39c42"
      },
      "source": [
        "In this tutorial, we will discuss the first approaches to find frequent patterns in big data using CFPGrowthPlus algorithm.\n",
        "\n",
        "[__Basic approach:__](#basicApproach) Here, we present the steps to discover frequent patterns using a single beta value"
      ]
    },
    {
      "cell_type": "markdown",
      "id": "f7fb1145-420c-4ce0-905e-383d013cb11f",
      "metadata": {
        "id": "f7fb1145-420c-4ce0-905e-383d013cb11f"
      },
      "source": [
        "***"
      ]
    },
    {
      "cell_type": "markdown",
      "id": "1f5910aa-1ab5-4a86-bf02-69d3541dc453",
      "metadata": {
        "id": "1f5910aa-1ab5-4a86-bf02-69d3541dc453"
      },
      "source": [
        "## <a id='basicApproach'>Basic approach: Executing CFPGrowthPlus on a single dataset at a particular beta value</a>"
      ]
    },
    {
      "cell_type": "markdown",
      "metadata": {
        "collapsed": false,
        "id": "7LkKkEv9qiHf"
      },
      "source": [
        "#### Step 0 : Install latest version of PAMI library"
      ],
      "id": "7LkKkEv9qiHf"
    },
    {
      "cell_type": "code",
      "execution_count": 1,
      "metadata": {
        "id": "0FiJZo_JqiHg",
        "outputId": "94010138-ae91-4fe1-955d-3a676ca6caa6",
        "colab": {
          "base_uri": "https://localhost:8080/"
        }
      },
      "outputs": [
        {
          "output_type": "stream",
          "name": "stdout",
          "text": [
            "Requirement already satisfied: PAMI in /usr/local/lib/python3.10/dist-packages (2024.10.24.2)\n",
            "Requirement already satisfied: psutil in /usr/local/lib/python3.10/dist-packages (from PAMI) (5.9.5)\n",
            "Requirement already satisfied: pandas in /usr/local/lib/python3.10/dist-packages (from PAMI) (2.2.2)\n",
            "Requirement already satisfied: plotly in /usr/local/lib/python3.10/dist-packages (from PAMI) (5.24.1)\n",
            "Requirement already satisfied: matplotlib in /usr/local/lib/python3.10/dist-packages (from PAMI) (3.7.1)\n",
            "Requirement already satisfied: resource in /usr/local/lib/python3.10/dist-packages (from PAMI) (0.2.1)\n",
            "Requirement already satisfied: validators in /usr/local/lib/python3.10/dist-packages (from PAMI) (0.34.0)\n",
            "Requirement already satisfied: urllib3 in /usr/local/lib/python3.10/dist-packages (from PAMI) (2.2.3)\n",
            "Requirement already satisfied: Pillow in /usr/local/lib/python3.10/dist-packages (from PAMI) (10.4.0)\n",
            "Requirement already satisfied: numpy in /usr/local/lib/python3.10/dist-packages (from PAMI) (1.26.4)\n",
            "Requirement already satisfied: sphinx in /usr/local/lib/python3.10/dist-packages (from PAMI) (8.1.3)\n",
            "Requirement already satisfied: sphinx-rtd-theme in /usr/local/lib/python3.10/dist-packages (from PAMI) (3.0.1)\n",
            "Requirement already satisfied: discord.py in /usr/local/lib/python3.10/dist-packages (from PAMI) (2.4.0)\n",
            "Requirement already satisfied: networkx in /usr/local/lib/python3.10/dist-packages (from PAMI) (3.4.2)\n",
            "Requirement already satisfied: deprecated in /usr/local/lib/python3.10/dist-packages (from PAMI) (1.2.14)\n",
            "Requirement already satisfied: wrapt<2,>=1.10 in /usr/local/lib/python3.10/dist-packages (from deprecated->PAMI) (1.16.0)\n",
            "Requirement already satisfied: aiohttp<4,>=3.7.4 in /usr/local/lib/python3.10/dist-packages (from discord.py->PAMI) (3.10.10)\n",
            "Requirement already satisfied: contourpy>=1.0.1 in /usr/local/lib/python3.10/dist-packages (from matplotlib->PAMI) (1.3.0)\n",
            "Requirement already satisfied: cycler>=0.10 in /usr/local/lib/python3.10/dist-packages (from matplotlib->PAMI) (0.12.1)\n",
            "Requirement already satisfied: fonttools>=4.22.0 in /usr/local/lib/python3.10/dist-packages (from matplotlib->PAMI) (4.54.1)\n",
            "Requirement already satisfied: kiwisolver>=1.0.1 in /usr/local/lib/python3.10/dist-packages (from matplotlib->PAMI) (1.4.7)\n",
            "Requirement already satisfied: packaging>=20.0 in /usr/local/lib/python3.10/dist-packages (from matplotlib->PAMI) (24.1)\n",
            "Requirement already satisfied: pyparsing>=2.3.1 in /usr/local/lib/python3.10/dist-packages (from matplotlib->PAMI) (3.2.0)\n",
            "Requirement already satisfied: python-dateutil>=2.7 in /usr/local/lib/python3.10/dist-packages (from matplotlib->PAMI) (2.8.2)\n",
            "Requirement already satisfied: pytz>=2020.1 in /usr/local/lib/python3.10/dist-packages (from pandas->PAMI) (2024.2)\n",
            "Requirement already satisfied: tzdata>=2022.7 in /usr/local/lib/python3.10/dist-packages (from pandas->PAMI) (2024.2)\n",
            "Requirement already satisfied: tenacity>=6.2.0 in /usr/local/lib/python3.10/dist-packages (from plotly->PAMI) (9.0.0)\n",
            "Requirement already satisfied: JsonForm>=0.0.2 in /usr/local/lib/python3.10/dist-packages (from resource->PAMI) (0.0.2)\n",
            "Requirement already satisfied: JsonSir>=0.0.2 in /usr/local/lib/python3.10/dist-packages (from resource->PAMI) (0.0.2)\n",
            "Requirement already satisfied: python-easyconfig>=0.1.0 in /usr/local/lib/python3.10/dist-packages (from resource->PAMI) (0.1.7)\n",
            "Requirement already satisfied: sphinxcontrib-applehelp>=1.0.7 in /usr/local/lib/python3.10/dist-packages (from sphinx->PAMI) (2.0.0)\n",
            "Requirement already satisfied: sphinxcontrib-devhelp>=1.0.6 in /usr/local/lib/python3.10/dist-packages (from sphinx->PAMI) (2.0.0)\n",
            "Requirement already satisfied: sphinxcontrib-htmlhelp>=2.0.6 in /usr/local/lib/python3.10/dist-packages (from sphinx->PAMI) (2.1.0)\n",
            "Requirement already satisfied: sphinxcontrib-jsmath>=1.0.1 in /usr/local/lib/python3.10/dist-packages (from sphinx->PAMI) (1.0.1)\n",
            "Requirement already satisfied: sphinxcontrib-qthelp>=1.0.6 in /usr/local/lib/python3.10/dist-packages (from sphinx->PAMI) (2.0.0)\n",
            "Requirement already satisfied: sphinxcontrib-serializinghtml>=1.1.9 in /usr/local/lib/python3.10/dist-packages (from sphinx->PAMI) (2.0.0)\n",
            "Requirement already satisfied: Jinja2>=3.1 in /usr/local/lib/python3.10/dist-packages (from sphinx->PAMI) (3.1.4)\n",
            "Requirement already satisfied: Pygments>=2.17 in /usr/local/lib/python3.10/dist-packages (from sphinx->PAMI) (2.18.0)\n",
            "Requirement already satisfied: docutils<0.22,>=0.20 in /usr/local/lib/python3.10/dist-packages (from sphinx->PAMI) (0.21.2)\n",
            "Requirement already satisfied: snowballstemmer>=2.2 in /usr/local/lib/python3.10/dist-packages (from sphinx->PAMI) (2.2.0)\n",
            "Requirement already satisfied: babel>=2.13 in /usr/local/lib/python3.10/dist-packages (from sphinx->PAMI) (2.16.0)\n",
            "Requirement already satisfied: alabaster>=0.7.14 in /usr/local/lib/python3.10/dist-packages (from sphinx->PAMI) (0.7.16)\n",
            "Requirement already satisfied: imagesize>=1.3 in /usr/local/lib/python3.10/dist-packages (from sphinx->PAMI) (1.4.1)\n",
            "Requirement already satisfied: requests>=2.30.0 in /usr/local/lib/python3.10/dist-packages (from sphinx->PAMI) (2.32.3)\n",
            "Requirement already satisfied: tomli>=2 in /usr/local/lib/python3.10/dist-packages (from sphinx->PAMI) (2.0.2)\n",
            "Requirement already satisfied: sphinxcontrib-jquery<5,>=4 in /usr/local/lib/python3.10/dist-packages (from sphinx-rtd-theme->PAMI) (4.1)\n",
            "Requirement already satisfied: aiohappyeyeballs>=2.3.0 in /usr/local/lib/python3.10/dist-packages (from aiohttp<4,>=3.7.4->discord.py->PAMI) (2.4.3)\n",
            "Requirement already satisfied: aiosignal>=1.1.2 in /usr/local/lib/python3.10/dist-packages (from aiohttp<4,>=3.7.4->discord.py->PAMI) (1.3.1)\n",
            "Requirement already satisfied: attrs>=17.3.0 in /usr/local/lib/python3.10/dist-packages (from aiohttp<4,>=3.7.4->discord.py->PAMI) (24.2.0)\n",
            "Requirement already satisfied: frozenlist>=1.1.1 in /usr/local/lib/python3.10/dist-packages (from aiohttp<4,>=3.7.4->discord.py->PAMI) (1.4.1)\n",
            "Requirement already satisfied: multidict<7.0,>=4.5 in /usr/local/lib/python3.10/dist-packages (from aiohttp<4,>=3.7.4->discord.py->PAMI) (6.1.0)\n",
            "Requirement already satisfied: yarl<2.0,>=1.12.0 in /usr/local/lib/python3.10/dist-packages (from aiohttp<4,>=3.7.4->discord.py->PAMI) (1.16.0)\n",
            "Requirement already satisfied: async-timeout<5.0,>=4.0 in /usr/local/lib/python3.10/dist-packages (from aiohttp<4,>=3.7.4->discord.py->PAMI) (4.0.3)\n",
            "Requirement already satisfied: MarkupSafe>=2.0 in /usr/local/lib/python3.10/dist-packages (from Jinja2>=3.1->sphinx->PAMI) (3.0.2)\n",
            "Requirement already satisfied: jsonschema in /usr/local/lib/python3.10/dist-packages (from JsonForm>=0.0.2->resource->PAMI) (4.23.0)\n",
            "Requirement already satisfied: six>=1.5 in /usr/local/lib/python3.10/dist-packages (from python-dateutil>=2.7->matplotlib->PAMI) (1.16.0)\n",
            "Requirement already satisfied: PyYAML in /usr/local/lib/python3.10/dist-packages (from python-easyconfig>=0.1.0->resource->PAMI) (6.0.2)\n",
            "Requirement already satisfied: charset-normalizer<4,>=2 in /usr/local/lib/python3.10/dist-packages (from requests>=2.30.0->sphinx->PAMI) (3.4.0)\n",
            "Requirement already satisfied: idna<4,>=2.5 in /usr/local/lib/python3.10/dist-packages (from requests>=2.30.0->sphinx->PAMI) (3.10)\n",
            "Requirement already satisfied: certifi>=2017.4.17 in /usr/local/lib/python3.10/dist-packages (from requests>=2.30.0->sphinx->PAMI) (2024.8.30)\n",
            "Requirement already satisfied: typing-extensions>=4.1.0 in /usr/local/lib/python3.10/dist-packages (from multidict<7.0,>=4.5->aiohttp<4,>=3.7.4->discord.py->PAMI) (4.12.2)\n",
            "Requirement already satisfied: propcache>=0.2.0 in /usr/local/lib/python3.10/dist-packages (from yarl<2.0,>=1.12.0->aiohttp<4,>=3.7.4->discord.py->PAMI) (0.2.0)\n",
            "Requirement already satisfied: jsonschema-specifications>=2023.03.6 in /usr/local/lib/python3.10/dist-packages (from jsonschema->JsonForm>=0.0.2->resource->PAMI) (2024.10.1)\n",
            "Requirement already satisfied: referencing>=0.28.4 in /usr/local/lib/python3.10/dist-packages (from jsonschema->JsonForm>=0.0.2->resource->PAMI) (0.35.1)\n",
            "Requirement already satisfied: rpds-py>=0.7.1 in /usr/local/lib/python3.10/dist-packages (from jsonschema->JsonForm>=0.0.2->resource->PAMI) (0.20.0)\n"
          ]
        }
      ],
      "source": [
        "!pip install -U PAMI"
      ],
      "id": "0FiJZo_JqiHg"
    },
    {
      "cell_type": "markdown",
      "source": [
        "#### Step 0.1 : Downloading the inputFile"
      ],
      "metadata": {
        "id": "Ft8yIxpB74JV"
      },
      "id": "Ft8yIxpB74JV"
    },
    {
      "cell_type": "code",
      "execution_count": 2,
      "id": "b47437ab",
      "metadata": {
        "id": "b47437ab",
        "outputId": "bfea8eb8-8e4d-45bd-c494-e73c94099cc7",
        "colab": {
          "base_uri": "https://localhost:8080/"
        }
      },
      "outputs": [
        {
          "output_type": "stream",
          "name": "stdout",
          "text": [
            "--2024-10-24 13:50:51--  https://u-aizu.ac.jp/~udayrage/datasets/transactionalDatabases/Transactional_T10I4D100K.csv\n",
            "Resolving u-aizu.ac.jp (u-aizu.ac.jp)... 150.31.244.160, 150.95.161.176\n",
            "Connecting to u-aizu.ac.jp (u-aizu.ac.jp)|150.31.244.160|:443... connected.\n",
            "HTTP request sent, awaiting response... 200 OK\n",
            "Length: 4019277 (3.8M) [text/csv]\n",
            "Saving to: ‘Transactional_T10I4D100K.csv.1’\n",
            "\n",
            "Transactional_T10I4 100%[===================>]   3.83M   811KB/s    in 4.8s    \n",
            "\n",
            "2024-10-24 13:50:57 (811 KB/s) - ‘Transactional_T10I4D100K.csv.1’ saved [4019277/4019277]\n",
            "\n"
          ]
        }
      ],
      "source": [
        "!wget https://u-aizu.ac.jp/~udayrage/datasets/transactionalDatabases/Transactional_T10I4D100K.csv"
      ]
    },
    {
      "cell_type": "markdown",
      "source": [
        "#### Step 0.2 : Creating an MIS_T10.txt File"
      ],
      "metadata": {
        "id": "uWDJC5528Fd6"
      },
      "id": "uWDJC5528Fd6"
    },
    {
      "cell_type": "code",
      "execution_count": 3,
      "id": "6c461c9d",
      "metadata": {
        "id": "6c461c9d"
      },
      "outputs": [],
      "source": [
        "from PAMI.extras.calculateMISValues import usingBeta as ub\n",
        "inputFile = \"Transactional_T10I4D100K.csv\"\n",
        "beta = 0.1\n",
        "LS = 400\n",
        "sep = \"\\t\"\n",
        "output = \"MIS_T10.txt\"\n",
        "cd = ub.usingBeta(inputFile, beta, LS, sep)\n",
        "cd.calculateMIS()\n",
        "cd.save(output)"
      ]
    },
    {
      "cell_type": "markdown",
      "id": "de947b74-a287-4166-aeeb-050b9b9714f9",
      "metadata": {
        "id": "de947b74-a287-4166-aeeb-050b9b9714f9"
      },
      "source": [
        "#### Step 1: Import the CFPGrowthPlus algorithm"
      ]
    },
    {
      "cell_type": "code",
      "execution_count": 4,
      "id": "042a4670-502c-417c-afa5-ce8f4620b8c6",
      "metadata": {
        "id": "042a4670-502c-417c-afa5-ce8f4620b8c6"
      },
      "outputs": [],
      "source": [
        "from PAMI.multipleMinimumSupportBasedFrequentPattern.basic import CFPGrowthPlus as alg"
      ]
    },
    {
      "cell_type": "markdown",
      "id": "052b485e-ae76-477c-b423-7a9a8c49d153",
      "metadata": {
        "id": "052b485e-ae76-477c-b423-7a9a8c49d153"
      },
      "source": [
        "#### Step 2: Specify the following input parameters"
      ]
    },
    {
      "cell_type": "code",
      "execution_count": 5,
      "id": "9d781abf-2a4b-499e-8725-454d99f4eb31",
      "metadata": {
        "id": "9d781abf-2a4b-499e-8725-454d99f4eb31"
      },
      "outputs": [],
      "source": [
        "inputFile = 'Transactional_T10I4D100K.csv'\n",
        "\n",
        "MIS = 'MIS_T10.txt'\n",
        "\n",
        "seperator='\\t'"
      ]
    },
    {
      "cell_type": "markdown",
      "id": "92fbc06c-8e5b-4396-82e9-0b337ba54865",
      "metadata": {
        "id": "92fbc06c-8e5b-4396-82e9-0b337ba54865"
      },
      "source": [
        "#### Step 3: Execute the CFPGrowthPlus algorithm"
      ]
    },
    {
      "cell_type": "code",
      "execution_count": 6,
      "id": "38ee53a6-d1fd-4266-8c8c-06662540657d",
      "metadata": {
        "id": "38ee53a6-d1fd-4266-8c8c-06662540657d",
        "outputId": "142f7837-a8b5-49f0-a2c9-5702d3c4ce9d",
        "colab": {
          "base_uri": "https://localhost:8080/"
        }
      },
      "outputs": [
        {
          "output_type": "stream",
          "name": "stdout",
          "text": [
            "Frequent patterns were generated successfully using Conditional Frequent Pattern Growth algorithm\n"
          ]
        }
      ],
      "source": [
        "obj = alg.CFPGrowthPlus(iFile=inputFile, MIS=MIS, sep=seperator)    #initialize\n",
        "obj.mine()            #Start the mining process"
      ]
    },
    {
      "cell_type": "markdown",
      "id": "3ee3603a-89da-44bb-bcd3-79cfa8db586a",
      "metadata": {
        "id": "3ee3603a-89da-44bb-bcd3-79cfa8db586a"
      },
      "source": [
        "#### Step 4: Storing the generated patterns"
      ]
    },
    {
      "cell_type": "markdown",
      "id": "8bee4a62-9478-46a3-a3a0-42bc4e2f1642",
      "metadata": {
        "id": "8bee4a62-9478-46a3-a3a0-42bc4e2f1642"
      },
      "source": [
        "##### Step 4.1: Storing the generated patterns in a file"
      ]
    },
    {
      "cell_type": "code",
      "execution_count": 7,
      "id": "c18de728-5cb4-446b-adae-872846e30b74",
      "metadata": {
        "id": "c18de728-5cb4-446b-adae-872846e30b74"
      },
      "outputs": [],
      "source": [
        "obj.save(outFile='frequentPatternsMinSupCount100.txt')"
      ]
    },
    {
      "cell_type": "markdown",
      "id": "62677159-e863-4233-858b-6b5359810c83",
      "metadata": {
        "id": "62677159-e863-4233-858b-6b5359810c83"
      },
      "source": [
        "##### Step 4.2. Storing the generated patterns in a data frame"
      ]
    },
    {
      "cell_type": "code",
      "execution_count": 8,
      "id": "64bdeb08-e80c-4bdf-bb35-d7c67b30f21a",
      "metadata": {
        "id": "64bdeb08-e80c-4bdf-bb35-d7c67b30f21a"
      },
      "outputs": [],
      "source": [
        "frequentPatternsDF= obj.getPatternsAsDataFrame()"
      ]
    },
    {
      "cell_type": "markdown",
      "id": "afc25934-1fa4-42b9-a0b0-1977a4dbd95f",
      "metadata": {
        "id": "afc25934-1fa4-42b9-a0b0-1977a4dbd95f"
      },
      "source": [
        "#### Step 5: Getting the statistics"
      ]
    },
    {
      "cell_type": "markdown",
      "id": "b6136a85-7820-4db8-8fbc-0395ab953aa3",
      "metadata": {
        "id": "b6136a85-7820-4db8-8fbc-0395ab953aa3"
      },
      "source": [
        "##### Step 5.1: Total number of discovered patterns"
      ]
    },
    {
      "cell_type": "code",
      "execution_count": 9,
      "id": "6b5bc0d1-4241-4971-bb23-8ab13ccabdad",
      "metadata": {
        "id": "6b5bc0d1-4241-4971-bb23-8ab13ccabdad",
        "colab": {
          "base_uri": "https://localhost:8080/"
        },
        "outputId": "ae501175-9c52-4e70-db11-22f5c39310ae"
      },
      "outputs": [
        {
          "output_type": "stream",
          "name": "stdout",
          "text": [
            "Total No of patterns: 1983\n"
          ]
        }
      ],
      "source": [
        "print('Total No of patterns: ' + str(len(frequentPatternsDF)))"
      ]
    },
    {
      "cell_type": "markdown",
      "id": "d0506690-7e8a-48a3-a012-33cfb7fb6351",
      "metadata": {
        "id": "d0506690-7e8a-48a3-a012-33cfb7fb6351"
      },
      "source": [
        "##### Step 5.2: Runtime consumed by the mining algorithm"
      ]
    },
    {
      "cell_type": "code",
      "execution_count": 10,
      "id": "55912f44-d238-41f0-9fab-9ad60f08ab21",
      "metadata": {
        "id": "55912f44-d238-41f0-9fab-9ad60f08ab21",
        "colab": {
          "base_uri": "https://localhost:8080/"
        },
        "outputId": "825854df-e85c-45c9-f4c1-1f74ec36032d"
      },
      "outputs": [
        {
          "output_type": "stream",
          "name": "stdout",
          "text": [
            "Runtime: 15.221588611602783\n"
          ]
        }
      ],
      "source": [
        "print('Runtime: ' + str(obj.getRuntime()))"
      ]
    },
    {
      "cell_type": "markdown",
      "id": "d794fce7-aaad-45f5-a583-21c5939b1022",
      "metadata": {
        "id": "d794fce7-aaad-45f5-a583-21c5939b1022"
      },
      "source": [
        "##### Step 5.3: Total Memory consumed by the mining algorithm"
      ]
    },
    {
      "cell_type": "code",
      "execution_count": 11,
      "id": "880ccc22-2606-4e55-a4ef-2a8deac28efc",
      "metadata": {
        "id": "880ccc22-2606-4e55-a4ef-2a8deac28efc",
        "colab": {
          "base_uri": "https://localhost:8080/"
        },
        "outputId": "9b6d974f-930d-4d4f-a648-7767ef7a2323"
      },
      "outputs": [
        {
          "output_type": "stream",
          "name": "stdout",
          "text": [
            "Memory (RSS): 621088768\n",
            "Memory (USS): 566169600\n"
          ]
        }
      ],
      "source": [
        "print('Memory (RSS): ' + str(obj.getMemoryRSS()))\n",
        "print('Memory (USS): ' + str(obj.getMemoryUSS()))"
      ]
    },
    {
      "cell_type": "markdown",
      "metadata": {
        "collapsed": false,
        "id": "uUw_1guCqiHn"
      },
      "source": [
        "# Advanced Tutorial on Implementing CFPGrowthPlus Algorithm"
      ],
      "id": "uUw_1guCqiHn"
    },
    {
      "cell_type": "markdown",
      "metadata": {
        "collapsed": false,
        "id": "8nfimqzNqiHo"
      },
      "source": [
        "In this tutorial, we will discuss the second approach to find frequent patterns in big data using CFPGrowthPlus algorithm.\n",
        "\n",
        "[__Advanced approach:__](#advApproach) Here, we generalize the basic approach by presenting the steps to discover frequent patterns using multiple beta values."
      ],
      "id": "8nfimqzNqiHo"
    },
    {
      "cell_type": "markdown",
      "metadata": {
        "collapsed": false,
        "id": "8ueMGJd-qiHo"
      },
      "source": [
        "***"
      ],
      "id": "8ueMGJd-qiHo"
    },
    {
      "cell_type": "markdown",
      "metadata": {
        "collapsed": false,
        "id": "Vt0Kh0FmqiHo"
      },
      "source": [
        "#### In this tutorial, we explain how the CFPGrowthPlus algorithm can be implemented by varying the beta values"
      ],
      "id": "Vt0Kh0FmqiHo"
    },
    {
      "cell_type": "markdown",
      "metadata": {
        "collapsed": false,
        "id": "ebG9QqXQqiHo"
      },
      "source": [
        "#### Step 1: Import the CFPGrowthPlus algorithm and pandas data frame"
      ],
      "id": "ebG9QqXQqiHo"
    },
    {
      "cell_type": "code",
      "execution_count": 12,
      "metadata": {
        "id": "ZoXyptP6qiHo"
      },
      "outputs": [],
      "source": [
        "from PAMI.multipleMinimumSupportBasedFrequentPattern.basic import CFPGrowthPlus as alg\n",
        "import pandas as pd"
      ],
      "id": "ZoXyptP6qiHo"
    },
    {
      "cell_type": "markdown",
      "metadata": {
        "collapsed": false,
        "id": "I6-gvVJ5qiHp"
      },
      "source": [
        "#### Step 2: Specify the following input parameters"
      ],
      "id": "I6-gvVJ5qiHp"
    },
    {
      "cell_type": "code",
      "execution_count": 13,
      "metadata": {
        "id": "z132gyB_qiHp"
      },
      "outputs": [],
      "source": [
        "inputFile = 'Transactional_T10I4D100K.csv'\n",
        "seperator='\\t'\n",
        "betaList = [0.1,0.2,0.3,0.4,0.5,0.6,0.7,0.8,0.9,1]\n",
        "\n",
        "result = pd.DataFrame(columns=['algorithm', 'minSup', 'patterns', 'runtime', 'memory'])\n",
        "#initialize a data frame to store the results of CFPGrowthPlus algorithm"
      ],
      "id": "z132gyB_qiHp"
    },
    {
      "cell_type": "markdown",
      "metadata": {
        "collapsed": false,
        "id": "EsG011_jqiHp"
      },
      "source": [
        "#### Step 3: Execute the CFPGrowthPlus algorithm using different beta values"
      ],
      "id": "EsG011_jqiHp"
    },
    {
      "cell_type": "code",
      "execution_count": 14,
      "metadata": {
        "id": "G8qrwb_2qiHp",
        "colab": {
          "base_uri": "https://localhost:8080/"
        },
        "outputId": "c12cf52c-fcd4-43d2-b1b6-ab48192b094d"
      },
      "outputs": [
        {
          "output_type": "stream",
          "name": "stdout",
          "text": [
            "Frequent patterns were generated successfully using Conditional Frequent Pattern Growth algorithm\n",
            "Frequent patterns were generated successfully using Conditional Frequent Pattern Growth algorithm\n",
            "Frequent patterns were generated successfully using Conditional Frequent Pattern Growth algorithm\n",
            "Frequent patterns were generated successfully using Conditional Frequent Pattern Growth algorithm\n",
            "Frequent patterns were generated successfully using Conditional Frequent Pattern Growth algorithm\n",
            "Frequent patterns were generated successfully using Conditional Frequent Pattern Growth algorithm\n",
            "Frequent patterns were generated successfully using Conditional Frequent Pattern Growth algorithm\n",
            "Frequent patterns were generated successfully using Conditional Frequent Pattern Growth algorithm\n",
            "Frequent patterns were generated successfully using Conditional Frequent Pattern Growth algorithm\n",
            "Frequent patterns were generated successfully using Conditional Frequent Pattern Growth algorithm\n"
          ]
        }
      ],
      "source": [
        "for beta in betaList:\n",
        "  from PAMI.extras.calculateMISValues import usingBeta as ub\n",
        "  inputFile = \"Transactional_T10I4D100K.csv\"\n",
        "  beta = beta\n",
        "  LS = 100\n",
        "  sep = \"\\t\"\n",
        "  MISfile = \"MIS_T10.txt\"\n",
        "  cd = ub.usingBeta(inputFile, beta, LS, sep)\n",
        "  cd.calculateMIS()\n",
        "  cd.save(MISfile)\n",
        "  obj = alg.CFPGrowthPlus(iFile=inputFile, MIS=MISfile, sep=seperator)\n",
        "  obj.mine()\n",
        "#store the results in the data frame\n",
        "  result.loc[result.shape[0]] = ['CFPGrowthPlus', beta, len(obj.getPatterns()), obj.getRuntime(), obj.getMemoryRSS()]\n"
      ],
      "id": "G8qrwb_2qiHp"
    },
    {
      "cell_type": "code",
      "execution_count": 15,
      "metadata": {
        "id": "fdxVkrU-qiHq",
        "colab": {
          "base_uri": "https://localhost:8080/"
        },
        "outputId": "f1ee1b3f-9af6-4e28-f40f-e18b7197d0c3"
      },
      "outputs": [
        {
          "output_type": "stream",
          "name": "stdout",
          "text": [
            "       algorithm  minSup  patterns    runtime     memory\n",
            "0  CFPGrowthPlus     0.1     22827  21.847227  664973312\n",
            "1  CFPGrowthPlus     0.2     14423  23.350201  660336640\n",
            "2  CFPGrowthPlus     0.3      9883  20.530882  658436096\n",
            "3  CFPGrowthPlus     0.4      7005  18.136225  661266432\n",
            "4  CFPGrowthPlus     0.5      4947  19.230281  657379328\n",
            "5  CFPGrowthPlus     0.6      3581  18.778890  657174528\n",
            "6  CFPGrowthPlus     0.7      2814  20.005580  659423232\n",
            "7  CFPGrowthPlus     0.8      2166  19.727741  659677184\n",
            "8  CFPGrowthPlus     0.9      1475  18.775949  655007744\n",
            "9  CFPGrowthPlus     1.0       798  20.039713  655163392\n"
          ]
        }
      ],
      "source": [
        "print(result)"
      ],
      "id": "fdxVkrU-qiHq"
    },
    {
      "cell_type": "markdown",
      "metadata": {
        "collapsed": false,
        "id": "0J3UWpDLqiHq"
      },
      "source": [
        "#### Step 5: Visualizing the results"
      ],
      "id": "0J3UWpDLqiHq"
    },
    {
      "cell_type": "markdown",
      "metadata": {
        "collapsed": false,
        "id": "cY0YRESzqiHq"
      },
      "source": [
        "##### Step 5.1 Importing the plot library"
      ],
      "id": "cY0YRESzqiHq"
    },
    {
      "cell_type": "code",
      "execution_count": 16,
      "metadata": {
        "id": "BG2czf9XqiHq"
      },
      "outputs": [],
      "source": [
        "from PAMI.extras.graph import plotLineGraphsFromDataFrame as plt"
      ],
      "id": "BG2czf9XqiHq"
    },
    {
      "cell_type": "markdown",
      "metadata": {
        "collapsed": false,
        "id": "mu4CTsMEqiHr"
      },
      "source": [
        "##### Step 5.2. Plotting the number of patterns"
      ],
      "id": "mu4CTsMEqiHr"
    },
    {
      "cell_type": "code",
      "execution_count": 17,
      "metadata": {
        "id": "E102US0VqiHr",
        "colab": {
          "base_uri": "https://localhost:8080/",
          "height": 1000
        },
        "outputId": "4bd37be3-f32e-47c4-cef0-5806b599c874"
      },
      "outputs": [
        {
          "output_type": "display_data",
          "data": {
            "text/plain": [
              "<Figure size 640x480 with 1 Axes>"
            ],
            "image/png": "[encoded data removed]"
          },
          "metadata": {}
        },
        {
          "output_type": "stream",
          "name": "stdout",
          "text": [
            "Graph for No Of Patterns is successfully generated!\n"
          ]
        },
        {
          "output_type": "display_data",
          "data": {
            "text/plain": [
              "<Figure size 640x480 with 1 Axes>"
            ],
            "image/png": "[encoded data removed]"
          },
          "metadata": {}
        },
        {
          "output_type": "stream",
          "name": "stdout",
          "text": [
            "Graph for Runtime taken is successfully generated!\n"
          ]
        },
        {
          "output_type": "display_data",
          "data": {
            "text/plain": [
              "<Figure size 640x480 with 1 Axes>"
            ],
            "image/png": "[encoded data removed]"
          },
          "metadata": {}
        },
        {
          "output_type": "stream",
          "name": "stdout",
          "text": [
            "Graph for memory consumption is successfully generated!\n"
          ]
        }
      ],
      "source": [
        "ab = plt.plotGraphsFromDataFrame(result)\n",
        "ab.plotGraphsFromDataFrame() #drawPlots()"
      ],
      "id": "E102US0VqiHr"
    },
    {
      "cell_type": "markdown",
      "metadata": {
        "collapsed": false,
        "id": "vi0UPM-aqiHr"
      },
      "source": [
        "### Step 6: Saving the results as latex files"
      ],
      "id": "vi0UPM-aqiHr"
    },
    {
      "cell_type": "code",
      "execution_count": 21,
      "metadata": {
        "id": "XqXEszHJqiHr",
        "colab": {
          "base_uri": "https://localhost:8080/"
        },
        "outputId": "5cd10697-1188-46ba-b8bf-9be15802d7b7"
      },
      "outputs": [
        {
          "output_type": "stream",
          "name": "stdout",
          "text": [
            "\\begin{axis}[\n",
            "\txlabel={\\Huge{minSup}},\n",
            "\tylabel={\\Huge{patterns}},\n",
            "\txmin=0.1, xmax=1.0,]\n",
            "\\addplot+  [red]\n",
            "\tcoordinates {\n",
            "(0.1,22827)\n",
            "(0.2,14423)\n",
            "(0.3,9883)\n",
            "(0.4,7005)\n",
            "(0.5,4947)\n",
            "(0.6,3581)\n",
            "(0.7,2814)\n",
            "(0.8,2166)\n",
            "(0.9,1475)\n",
            "(1.0,798)\n",
            "\t};   \\addlegendentry{CFPGrowthPlus}\n",
            "\\end{axis}\n",
            "LaTeX file saved as patternsCFPGrowthPlus.tex\n"
          ]
        }
      ],
      "source": [
        "from PAMI.extras.graph import DF2Tex as tex\n",
        "obj = tex.DF2Tex()\n",
        "obj.generateLatexCode(result, \"minSup\", \"patterns\", \"algorithm\")\n",
        "obj.print_latex()\n",
        "obj.save(\"patternsCFPGrowthPlus.tex\")"
      ],
      "id": "XqXEszHJqiHr"
    },
    {
      "cell_type": "code",
      "source": [],
      "metadata": {
        "id": "aqZqEd1Sz5LU"
      },
      "id": "aqZqEd1Sz5LU",
      "execution_count": null,
      "outputs": []
    }
  ],
  "metadata": {
    "kernelspec": {
      "display_name": "Python 3 (ipykernel)",
      "language": "python",
      "name": "python3"
    },
    "language_info": {
      "codemirror_mode": {
        "name": "ipython",
        "version": 3
      },
      "file_extension": ".py",
      "mimetype": "text/x-python",
      "name": "python",
      "nbconvert_exporter": "python",
      "pygments_lexer": "ipython3",
      "version": "3.11.5"
    },
    "colab": {
      "provenance": [],
      "include_colab_link": true
    }
  },
  "nbformat": 4,
  "nbformat_minor": 5
}