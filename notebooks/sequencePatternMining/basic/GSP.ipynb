{
 "cells": [
  {
   "cell_type": "markdown",
   "metadata": {
    "id": "PuC4Pfm6mFTh"
   },
   "source": [
    "# Finding frequent sequential patterns in sequence databases using GSP"
   ]
  },
  {
   "cell_type": "markdown",
   "metadata": {
    "id": "3MiIceh4mKp1"
   },
   "source": [
    "This tutorial has two parts. In the first part, we describe the basic approach to find frequent patterns in a sequence database using the GSP algorithm. In the final part, we describe an advanced approach, where we evaluate the prefixSpan algorithm on a dataset at different *minimum support* threshold."
   ]
  },
  {
   "cell_type": "markdown",
   "metadata": {
    "id": "Qrm_7h1XHLE1"
   },
   "source": [
    "## Prerequisites:"
   ]
  },
  {
   "cell_type": "markdown",
   "metadata": {
    "id": "KHMiKDCWmsOh"
   },
   "source": [
    "1. Installing the PAMI library"
   ]
  },
  {
   "cell_type": "code",
   "execution_count": 2,
   "metadata": {
    "colab": {
     "base_uri": "https://localhost:8080/"
    },
    "id": "Ia2SzREPIg6s",
    "outputId": "481d7501-66a3-45db-e510-1a692954e222"
   },
   "outputs": [
    {
     "name": "stdout",
     "output_type": "stream",
     "text": [
      "Defaulting to user installation because normal site-packages is not writeable\n",
      "Requirement already satisfied: pami in /users/suzuki/.local/lib/python3.10/site-packages (2024.10.14.2)\n",
      "Collecting pami\n",
      "  Downloading pami-2024.10.24.2-py3-none-any.whl.metadata (80 kB)\n",
      "\u001b[2K     \u001b[90m━━━━━━━━━━━━━━━━━━━━━━━━━━━━━━━━━━━━━━━━\u001b[0m \u001b[32m80.3/80.3 kB\u001b[0m \u001b[31m6.5 MB/s\u001b[0m eta \u001b[36m0:00:00\u001b[0m\n",
      "\u001b[?25hRequirement already satisfied: psutil in /users/suzuki/.local/lib/python3.10/site-packages (from pami) (5.9.5)\n",
      "Requirement already satisfied: pandas in /users/suzuki/.local/lib/python3.10/site-packages (from pami) (2.1.1)\n",
      "Requirement already satisfied: plotly in /home/jupyter/anaconda3/envs/jupyterHub/lib/python3.10/site-packages (from pami) (5.22.0)\n",
      "Requirement already satisfied: matplotlib in /home/jupyter/anaconda3/envs/jupyterHub/lib/python3.10/site-packages (from pami) (3.9.0)\n",
      "Requirement already satisfied: resource in /home/jupyter/anaconda3/envs/jupyterHub/lib/python3.10/site-packages (from pami) (0.2.1)\n",
      "Requirement already satisfied: validators in /users/suzuki/.local/lib/python3.10/site-packages (from pami) (0.22.0)\n",
      "Requirement already satisfied: urllib3 in /home/jupyter/anaconda3/envs/jupyterHub/lib/python3.10/site-packages (from pami) (2.2.1)\n",
      "Requirement already satisfied: Pillow in /home/jupyter/anaconda3/envs/jupyterHub/lib/python3.10/site-packages (from pami) (10.3.0)\n",
      "Requirement already satisfied: numpy in /users/suzuki/.local/lib/python3.10/site-packages (from pami) (1.26.0)\n",
      "Requirement already satisfied: sphinx in /home/jupyter/anaconda3/envs/jupyterHub/lib/python3.10/site-packages (from pami) (7.3.7)\n",
      "Requirement already satisfied: sphinx-rtd-theme in /home/jupyter/anaconda3/envs/jupyterHub/lib/python3.10/site-packages (from pami) (2.0.0)\n",
      "Requirement already satisfied: discord.py in /home/jupyter/anaconda3/envs/jupyterHub/lib/python3.10/site-packages (from pami) (2.3.2)\n",
      "Requirement already satisfied: networkx in /home/jupyter/anaconda3/envs/jupyterHub/lib/python3.10/site-packages (from pami) (3.3)\n",
      "Requirement already satisfied: deprecated in /home/jupyter/anaconda3/envs/jupyterHub/lib/python3.10/site-packages (from pami) (1.2.14)\n",
      "Requirement already satisfied: wrapt<2,>=1.10 in /home/jupyter/anaconda3/envs/jupyterHub/lib/python3.10/site-packages (from deprecated->pami) (1.16.0)\n",
      "Requirement already satisfied: aiohttp<4,>=3.7.4 in /home/jupyter/anaconda3/envs/jupyterHub/lib/python3.10/site-packages (from discord.py->pami) (3.9.5)\n",
      "Requirement already satisfied: contourpy>=1.0.1 in /home/jupyter/anaconda3/envs/jupyterHub/lib/python3.10/site-packages (from matplotlib->pami) (1.2.1)\n",
      "Requirement already satisfied: cycler>=0.10 in /home/jupyter/anaconda3/envs/jupyterHub/lib/python3.10/site-packages (from matplotlib->pami) (0.12.1)\n",
      "Requirement already satisfied: fonttools>=4.22.0 in /home/jupyter/anaconda3/envs/jupyterHub/lib/python3.10/site-packages (from matplotlib->pami) (4.51.0)\n",
      "Requirement already satisfied: kiwisolver>=1.3.1 in /home/jupyter/anaconda3/envs/jupyterHub/lib/python3.10/site-packages (from matplotlib->pami) (1.4.5)\n",
      "Requirement already satisfied: packaging>=20.0 in /home/jupyter/anaconda3/envs/jupyterHub/lib/python3.10/site-packages (from matplotlib->pami) (24.0)\n",
      "Requirement already satisfied: pyparsing>=2.3.1 in /home/jupyter/anaconda3/envs/jupyterHub/lib/python3.10/site-packages (from matplotlib->pami) (3.1.2)\n",
      "Requirement already satisfied: python-dateutil>=2.7 in /users/suzuki/.local/lib/python3.10/site-packages (from matplotlib->pami) (2.8.2)\n",
      "Requirement already satisfied: pytz>=2020.1 in /home/jupyter/anaconda3/envs/jupyterHub/lib/python3.10/site-packages (from pandas->pami) (2024.1)\n",
      "Requirement already satisfied: tzdata>=2022.1 in /users/suzuki/.local/lib/python3.10/site-packages (from pandas->pami) (2023.3)\n",
      "Requirement already satisfied: tenacity>=6.2.0 in /home/jupyter/anaconda3/envs/jupyterHub/lib/python3.10/site-packages (from plotly->pami) (8.3.0)\n",
      "Requirement already satisfied: JsonForm>=0.0.2 in /home/jupyter/anaconda3/envs/jupyterHub/lib/python3.10/site-packages (from resource->pami) (0.0.2)\n",
      "Requirement already satisfied: JsonSir>=0.0.2 in /home/jupyter/anaconda3/envs/jupyterHub/lib/python3.10/site-packages (from resource->pami) (0.0.2)\n",
      "Requirement already satisfied: python-easyconfig>=0.1.0 in /home/jupyter/anaconda3/envs/jupyterHub/lib/python3.10/site-packages (from resource->pami) (0.1.7)\n",
      "Requirement already satisfied: sphinxcontrib-applehelp in /home/jupyter/anaconda3/envs/jupyterHub/lib/python3.10/site-packages (from sphinx->pami) (1.0.8)\n",
      "Requirement already satisfied: sphinxcontrib-devhelp in /home/jupyter/anaconda3/envs/jupyterHub/lib/python3.10/site-packages (from sphinx->pami) (1.0.6)\n",
      "Requirement already satisfied: sphinxcontrib-jsmath in /home/jupyter/anaconda3/envs/jupyterHub/lib/python3.10/site-packages (from sphinx->pami) (1.0.1)\n",
      "Requirement already satisfied: sphinxcontrib-htmlhelp>=2.0.0 in /home/jupyter/anaconda3/envs/jupyterHub/lib/python3.10/site-packages (from sphinx->pami) (2.0.5)\n",
      "Requirement already satisfied: sphinxcontrib-serializinghtml>=1.1.9 in /home/jupyter/anaconda3/envs/jupyterHub/lib/python3.10/site-packages (from sphinx->pami) (1.1.10)\n",
      "Requirement already satisfied: sphinxcontrib-qthelp in /home/jupyter/anaconda3/envs/jupyterHub/lib/python3.10/site-packages (from sphinx->pami) (1.0.7)\n",
      "Requirement already satisfied: Jinja2>=3.0 in /home/jupyter/anaconda3/envs/jupyterHub/lib/python3.10/site-packages (from sphinx->pami) (3.1.4)\n",
      "Requirement already satisfied: Pygments>=2.14 in /home/jupyter/anaconda3/envs/jupyterHub/lib/python3.10/site-packages (from sphinx->pami) (2.18.0)\n",
      "Requirement already satisfied: docutils<0.22,>=0.18.1 in /home/jupyter/anaconda3/envs/jupyterHub/lib/python3.10/site-packages (from sphinx->pami) (0.20.1)\n",
      "Requirement already satisfied: snowballstemmer>=2.0 in /home/jupyter/anaconda3/envs/jupyterHub/lib/python3.10/site-packages (from sphinx->pami) (2.2.0)\n",
      "Requirement already satisfied: babel>=2.9 in /home/jupyter/anaconda3/envs/jupyterHub/lib/python3.10/site-packages (from sphinx->pami) (2.14.0)\n",
      "Requirement already satisfied: alabaster~=0.7.14 in /home/jupyter/anaconda3/envs/jupyterHub/lib/python3.10/site-packages (from sphinx->pami) (0.7.16)\n",
      "Requirement already satisfied: imagesize>=1.3 in /home/jupyter/anaconda3/envs/jupyterHub/lib/python3.10/site-packages (from sphinx->pami) (1.4.1)\n",
      "Requirement already satisfied: requests>=2.25.0 in /home/jupyter/anaconda3/envs/jupyterHub/lib/python3.10/site-packages (from sphinx->pami) (2.31.0)\n",
      "Requirement already satisfied: tomli>=2 in /home/jupyter/anaconda3/envs/jupyterHub/lib/python3.10/site-packages (from sphinx->pami) (2.0.1)\n",
      "Requirement already satisfied: sphinxcontrib-jquery<5,>=4 in /home/jupyter/anaconda3/envs/jupyterHub/lib/python3.10/site-packages (from sphinx-rtd-theme->pami) (4.1)\n",
      "Requirement already satisfied: aiosignal>=1.1.2 in /home/jupyter/anaconda3/envs/jupyterHub/lib/python3.10/site-packages (from aiohttp<4,>=3.7.4->discord.py->pami) (1.3.1)\n",
      "Requirement already satisfied: attrs>=17.3.0 in /home/jupyter/anaconda3/envs/jupyterHub/lib/python3.10/site-packages (from aiohttp<4,>=3.7.4->discord.py->pami) (23.2.0)\n",
      "Requirement already satisfied: frozenlist>=1.1.1 in /home/jupyter/anaconda3/envs/jupyterHub/lib/python3.10/site-packages (from aiohttp<4,>=3.7.4->discord.py->pami) (1.4.1)\n",
      "Requirement already satisfied: multidict<7.0,>=4.5 in /home/jupyter/anaconda3/envs/jupyterHub/lib/python3.10/site-packages (from aiohttp<4,>=3.7.4->discord.py->pami) (6.0.5)\n",
      "Requirement already satisfied: yarl<2.0,>=1.0 in /home/jupyter/anaconda3/envs/jupyterHub/lib/python3.10/site-packages (from aiohttp<4,>=3.7.4->discord.py->pami) (1.9.4)\n",
      "Requirement already satisfied: async-timeout<5.0,>=4.0 in /home/jupyter/anaconda3/envs/jupyterHub/lib/python3.10/site-packages (from aiohttp<4,>=3.7.4->discord.py->pami) (4.0.3)\n",
      "Requirement already satisfied: MarkupSafe>=2.0 in /home/jupyter/anaconda3/envs/jupyterHub/lib/python3.10/site-packages (from Jinja2>=3.0->sphinx->pami) (2.1.5)\n",
      "Requirement already satisfied: jsonschema in /home/jupyter/anaconda3/envs/jupyterHub/lib/python3.10/site-packages (from JsonForm>=0.0.2->resource->pami) (4.22.0)\n",
      "Requirement already satisfied: six>=1.5 in /home/jupyter/anaconda3/envs/jupyterHub/lib/python3.10/site-packages (from python-dateutil>=2.7->matplotlib->pami) (1.16.0)\n",
      "Requirement already satisfied: PyYAML in /home/jupyter/anaconda3/envs/jupyterHub/lib/python3.10/site-packages (from python-easyconfig>=0.1.0->resource->pami) (6.0.1)\n",
      "Requirement already satisfied: charset-normalizer<4,>=2 in /home/jupyter/anaconda3/envs/jupyterHub/lib/python3.10/site-packages (from requests>=2.25.0->sphinx->pami) (3.3.2)\n",
      "Requirement already satisfied: idna<4,>=2.5 in /home/jupyter/anaconda3/envs/jupyterHub/lib/python3.10/site-packages (from requests>=2.25.0->sphinx->pami) (3.7)\n",
      "Requirement already satisfied: certifi>=2017.4.17 in /home/jupyter/anaconda3/envs/jupyterHub/lib/python3.10/site-packages (from requests>=2.25.0->sphinx->pami) (2024.2.2)\n",
      "Requirement already satisfied: jsonschema-specifications>=2023.03.6 in /home/jupyter/anaconda3/envs/jupyterHub/lib/python3.10/site-packages (from jsonschema->JsonForm>=0.0.2->resource->pami) (2023.12.1)\n",
      "Requirement already satisfied: referencing>=0.28.4 in /home/jupyter/anaconda3/envs/jupyterHub/lib/python3.10/site-packages (from jsonschema->JsonForm>=0.0.2->resource->pami) (0.35.1)\n",
      "Requirement already satisfied: rpds-py>=0.7.1 in /home/jupyter/anaconda3/envs/jupyterHub/lib/python3.10/site-packages (from jsonschema->JsonForm>=0.0.2->resource->pami) (0.18.1)\n",
      "Downloading pami-2024.10.24.2-py3-none-any.whl (1.1 MB)\n",
      "\u001b[2K   \u001b[90m━━━━━━━━━━━━━━━━━━━━━━━━━━━━━━━━━━━━━━━━\u001b[0m \u001b[32m1.1/1.1 MB\u001b[0m \u001b[31m48.0 MB/s\u001b[0m eta \u001b[36m0:00:00\u001b[0m\n",
      "\u001b[?25hInstalling collected packages: pami\n",
      "  Attempting uninstall: pami\n",
      "    Found existing installation: pami 2024.10.14.2\n",
      "    Uninstalling pami-2024.10.14.2:\n",
      "      Successfully uninstalled pami-2024.10.14.2\n",
      "Successfully installed pami-2024.10.24.2\n"
     ]
    }
   ],
   "source": [
    "!pip install -U pami"
   ]
  },
  {
   "cell_type": "markdown",
   "metadata": {
    "id": "nINT3n_frRj3"
   },
   "source": [
    "2. Downloading a sample dataset"
   ]
  },
  {
   "cell_type": "code",
   "execution_count": 3,
   "metadata": {
    "colab": {
     "base_uri": "https://localhost:8080/"
    },
    "id": "hZFTwgLy9jyg",
    "outputId": "8445d029-14fd-4c80-cea1-b2a996861ed6"
   },
   "outputs": [
    {
     "name": "stdout",
     "output_type": "stream",
     "text": [
      "--2024-10-29 05:50:06--  https://www.dropbox.com/scl/fi/c2xdmns7rprxnkgd9h3gb/airPollution.csv?rlkey=q7zoop7mi2n4z3qi94lpc1jlf\n"
     ]
    }
   ],
   "source": [
    "!wget -nc https://www.dropbox.com/scl/fi/c2xdmns7rprxnkgd9h3gb/airPollution.csv?rlkey=q7zoop7mi2n4z3qi94lpc1jlf&dl=0"
   ]
  },
  {
   "cell_type": "markdown",
   "metadata": {
    "id": "uPW-6x-Bs2Qt"
   },
   "source": [
    "3 convert air pollution dataset to sequence dataset"
   ]
  },
  {
   "cell_type": "markdown",
   "metadata": {
    "id": "k1nxApjjHUkH"
   },
   "source": [
    "3.1 change filename to airPollution.csv"
   ]
  },
  {
   "cell_type": "code",
   "execution_count": 4,
   "metadata": {
    "id": "V2_WtK7c_Jby"
   },
   "outputs": [
    {
     "name": "stdout",
     "output_type": "stream",
     "text": [
      "mv: cannot stat 'airPollution.csv?rlkey=q7zoop7mi2n4z3qi94lpc1jlf': No such file or directory\n"
     ]
    }
   ],
   "source": [
    "!mv airPollution.csv?rlkey=q7zoop7mi2n4z3qi94lpc1jlf airPollution.csv"
   ]
  },
  {
   "cell_type": "markdown",
   "metadata": {
    "id": "mkDwPafoHbU-"
   },
   "source": [
    "3.2 show the first 3 row as example of database"
   ]
  },
  {
   "cell_type": "code",
   "execution_count": 11,
   "metadata": {
    "colab": {
     "base_uri": "https://localhost:8080/"
    },
    "id": "jH91a82j9tEh",
    "outputId": "9a7ebc5e-de48-4858-826e-7385bad6c870"
   },
   "outputs": [
    {
     "name": "stdout",
     "output_type": "stream",
     "text": [
      ",TimeStamp,POINT(137.2331301 36.7425277),POINT(140.8733429 38.2932172),POINT(139.1103334 36.2974922),POINT(140.957261 37.6422006),POINT(139.2619009 36.0594871),POINT(135.5188107 34.7919888),POINT(141.7627117 40.1916885),POINT(140.7468006 41.8188869),POINT(139.7422865 36.2305774),POINT(133.9318657 34.4600964),POINT(139.993363 35.6771308),POINT(140.5346664 36.3965854),POINT(139.9382318 35.374032),POINT(140.138552 35.611391),POINT(139.0960211 36.4047323),POINT(135.7079001 34.6916695),POINT(139.3678037 35.4666052),POINT(134.2940462 34.7473902),POINT(140.1460666 35.3335387),POINT(135.0986062 34.6935289),POINT(139.7638423 35.93410739999999),POINT(136.8127001 35.1404408),POINT(135.790301 34.509211),POINT(139.3908038 35.446427),POINT(133.7758944 34.6007931),POINT(139.6624281 35.4151966),POINT(140.4021967 36.555081),POINT(138.5998848 35.1758502),POINT(130.601994 32.507843),POINT(132.2165637 34.1698473),POINT(139.466145 35.4718748),POINT(137.7915988 34.7918944),POINT(138.9138437 36.323256),POINT(130.6384926 32.5010333),POINT(140.4396435 40.5942053),POINT(134.7906399 34.7659515),POINT(132.5621196 34.233441),POINT(127.7235186 26.2674837),POINT(136.655011 36.5720051),POINT(139.9744275 35.9510748),POINT(135.7329103 34.9386385),POINT(134.8201981 35.544535),POINT(140.919307 37.80443),POINT(139.750635 35.7977241),POINT(139.6681689 36.0701176),POINT(138.190476 36.6500571),POINT(136.6548337 35.0051925),POINT(139.5706101 35.3867642),POINT(133.8158591 34.5360861),POINT(137.2215421 36.654799),POINT(136.5379373 35.1001393),POINT(136.6517671 36.5601426),POINT(139.3886361 36.1473726),POINT(139.3526243 36.3695416),POINT(139.6824869 35.70038820000001),POINT(140.3790658 37.392156),POINT(140.3930366 37.4480471),POINT(130.2113464 32.7321302),POINT(135.3526872 34.7696173),POINT(132.7326196 33.8884275),POINT(133.3038836 33.9390411),POINT(137.2804764 34.6962171),POINT(135.5861101 34.7089151),POINT(139.3455297 35.31912519999999),POINT(132.5843493 34.2533993),POINT(138.1073764 36.0339667),POINT(139.7151723 36.822353),POINT(131.6660204 33.2074647),POINT(139.7117829 35.5149206),POINT(133.4907077 34.4595922),POINT(140.7641372 38.2686728),POINT(139.4330685 35.6560905),POINT(140.0345446 35.3903778),POINT(139.7316932 36.0754341),POINT(137.030104 35.4535332),POINT(131.1143787 32.9387289),POINT(139.664222 35.7653547),POINT(134.9804159 34.6531234),POINT(136.1426014 34.7589115),POINT(139.3629748 35.3762374),POINT(133.863916 34.65261479999999),POINT(138.6230211 35.14851),POINT(139.7019868 35.9506516),POINT(133.9630843 34.3021092),POINT(140.1351015 35.4483325),POINT(130.3597423 33.5840497),POINT(141.3483898 43.0843826),POINT(140.951444 42.36597709999999),POINT(139.6330203 35.518987),POINT(139.7346645 35.7194287),POINT(137.2074429 35.8841895),POINT(140.4786818 39.4508865),POINT(129.7798616 33.1447725),POINT(140.3406186 38.2702593),POINT(140.4494813 37.7669513),POINT(127.8197995 26.3478034),POINT(139.0988043 36.0708172),POINT(139.2074557 36.121908),POINT(135.1864594 34.2129031),POINT(135.4829962 34.5732755),POINT(139.8841693 35.8422674),POINT(133.6106447 34.791041),POINT(137.9248349 34.7502332),POINT(139.5587687 35.62262080000001),POINT(130.7589282 32.2064635),POINT(136.603013 36.598011),POINT(136.6772214 36.5561283),POINT(137.6689744 34.7270705),POINT(134.8328348 34.7931037),POINT(138.3682366 34.9376858),POINT(139.9101767 36.4393022),POINT(139.4765433 35.7277805),POINT(133.9207248 34.6284591),POINT(130.4105582 33.6051041),POINT(136.0617979 35.6538374),POINT(139.5731918 35.9228477),POINT(136.913089 34.9331407),POINT(133.7611332 34.5366081),POINT(136.8880309 35.1033076),POINT(132.7283802 33.8225127),POINT(139.6245683 35.4207697),POINT(135.1208072 34.6474071),POINT(134.8230474 34.7571132),POINT(140.8457951 38.3107165),POINT(136.770863 35.3440604),POINT(139.6821513 35.6194814),POINT(140.0533454 35.3229581),POINT(130.9612121 33.8854016),POINT(135.2659601 34.6882591),POINT(135.4127441 34.7250871),POINT(131.8252971 34.0756731),POINT(127.6656429 26.1460274),POINT(130.0274159 32.4246008),POINT(140.1432781 35.6649295),POINT(135.3814348 34.4833962),POINT(137.391511 34.7692439),POINT(140.9132984 37.8731716),POINT(133.7073379 34.5851341),POINT(140.0502546 35.4787704),POINT(130.6308774 32.765727),POINT(139.0911366 37.9341361),POINT(139.336038 35.7749305),POINT(140.1138229 37.919914),POINT(139.7113021 35.6837071),POINT(139.2303028 35.3714959),POINT(134.1953924 34.7450937),POINT(131.1305023 33.6123245),POINT(140.5167529 36.1595964),POINT(139.6445189 35.9372992),POINT(131.750388 33.228785),POINT(144.3636328 43.0214076),POINT(134.5889833 34.7891826),POINT(139.4611741 35.9795506),POINT(133.6627923 34.1284249),POINT(133.9090946 34.4575148),POINT(133.2421001 34.5701429),POINT(140.4634634 40.7818583),POINT(130.0525067 32.3654264),POINT(140.6002988 35.8466005),POINT(135.6284685 34.7119851),POINT(131.6728739 32.5519338),POINT(141.8454254 39.2658381),POINT(139.5317782 36.2499123),POINT(137.8162936 36.7352035),POINT(139.4106122 36.0530326),POINT(140.0776785 35.4879615),POINT(136.8928695 37.0612656),POINT(133.7884535 35.08112),POINT(139.9060251 35.7314911),POINT(139.1020812 34.9656121),POINT(139.4529557 35.5357835),POINT(135.8303094 34.5948116),POINT(139.5520672 35.4719976),POINT(139.5712889 35.85271520000001),POINT(137.2359058 36.7222389),POINT(141.1564479 43.139733),POINT(135.5568719 34.7296986),POINT(135.228714 34.3393855),POINT(139.4097976 35.8056126),POINT(133.0704759 33.8795182),POINT(135.759996 35.033474),POINT(138.2062966 36.6046906),POINT(140.8928995 37.9406596),POINT(135.6009567 34.3117943),POINT(133.7570366 34.5800143),POINT(140.368981 35.5552469),POINT(139.4926183 35.9065533),POINT(139.6184164 35.402381),POINT(133.7693672 34.5091621),POINT(134.5801986 34.90361180000001),POINT(130.9395423 33.8302551),POINT(141.6892571 42.6698527),POINT(130.3518793 32.088342),POINT(141.6309688 42.6576551),POINT(138.4066959 34.9960412),POINT(140.0499266 39.3839601),POINT(130.4674218 32.9808242)\n",
      "0,2021-07-01 01:00:00,3.0,NaN,NaN,NaN,NaN,NaN,NaN,NaN,NaN,NaN,NaN,NaN,NaN,NaN,NaN,10.0,9.0,NaN,NaN,2.0,6.0,NaN,NaN,9.0,3.0,8.0,14.0,NaN,28.0,24.0,11.0,10.0,NaN,NaN,3.0,NaN,NaN,NaN,NaN,NaN,NaN,4.0,NaN,11.0,7.0,6.0,16.0,NaN,NaN,NaN,NaN,NaN,NaN,NaN,NaN,NaN,NaN,15.0,NaN,15.0,NaN,8.0,NaN,NaN,NaN,7.0,NaN,NaN,NaN,NaN,7.0,7.0,NaN,10.0,2.0,NaN,10.0,NaN,5.0,NaN,2.0,NaN,NaN,2.0,NaN,15.0,NaN,NaN,11.0,10.0,6.0,NaN,NaN,13.0,10.0,1.0,7.0,NaN,4.0,NaN,13.0,2.0,NaN,NaN,NaN,6.0,5.0,8.0,NaN,12.0,NaN,7.0,NaN,17.0,4.0,NaN,NaN,NaN,9.0,22.0,NaN,5.0,NaN,NaN,5.0,12.0,1.0,3.0,2.0,4.0,NaN,NaN,NaN,NaN,NaN,7.0,NaN,NaN,3.0,NaN,8.0,7.0,24.0,6.0,NaN,NaN,2.0,2.0,NaN,NaN,9.0,NaN,6.0,1.0,NaN,NaN,6.0,NaN,5.0,NaN,NaN,1.0,9.0,0.0,9.0,5.0,NaN,NaN,NaN,NaN,8.0,NaN,5.0,12.0,NaN,NaN,0.0,NaN,9.0,NaN,2.0,NaN,NaN,10.0,4.0,3.0,NaN,12.0,NaN,NaN,1.0,14.0,4.0,NaN,8.0,5.0,23.0\n",
      "1,2021-07-01 02:00:00,3.0,NaN,NaN,NaN,NaN,NaN,NaN,NaN,NaN,NaN,NaN,NaN,NaN,NaN,NaN,-7.0,9.0,NaN,NaN,1.0,8.0,NaN,NaN,8.0,3.0,8.0,2.0,NaN,22.0,20.0,9.0,4.0,NaN,NaN,3.0,NaN,NaN,NaN,NaN,NaN,NaN,4.0,NaN,9.0,8.0,4.0,0.0,NaN,NaN,NaN,NaN,NaN,NaN,NaN,NaN,NaN,NaN,2.0,NaN,19.0,NaN,7.0,NaN,NaN,NaN,2.0,NaN,NaN,NaN,NaN,7.0,6.0,NaN,9.0,3.0,NaN,11.0,NaN,5.0,NaN,4.0,NaN,NaN,-1.0,NaN,15.0,NaN,NaN,10.0,8.0,4.0,NaN,NaN,7.0,2.0,3.0,5.0,NaN,2.0,NaN,10.0,4.0,NaN,NaN,NaN,15.0,3.0,3.0,NaN,6.0,NaN,9.0,NaN,16.0,1.0,NaN,NaN,NaN,8.0,17.0,NaN,3.0,NaN,NaN,5.0,10.0,6.0,2.0,2.0,4.0,NaN,NaN,NaN,NaN,NaN,6.0,NaN,NaN,6.0,NaN,-2.0,6.0,13.0,6.0,NaN,NaN,4.0,4.0,NaN,NaN,8.0,NaN,5.0,1.0,NaN,NaN,6.0,NaN,5.0,NaN,NaN,2.0,7.0,2.0,8.0,1.0,NaN,NaN,NaN,NaN,8.0,NaN,7.0,9.0,NaN,NaN,-1.0,NaN,10.0,NaN,5.0,NaN,NaN,5.0,3.0,3.0,NaN,7.0,NaN,NaN,1.0,5.0,5.0,NaN,6.0,4.0,18.0\n"
     ]
    }
   ],
   "source": [
    "!head -3 airPollution.csv"
   ]
  },
  {
   "cell_type": "markdown",
   "metadata": {
    "id": "fH6PCQwbHit_"
   },
   "source": [
    "3.3 read file as dataset"
   ]
  },
  {
   "cell_type": "code",
   "execution_count": 12,
   "metadata": {
    "colab": {
     "base_uri": "https://localhost:8080/",
     "height": 666
    },
    "id": "UzqApFwO-Bff",
    "outputId": "40dc0b2f-4831-4f67-ff9c-349d721b067f"
   },
   "outputs": [
    {
     "data": {
      "text/html": [
       "<div>\n",
       "<style scoped>\n",
       "    .dataframe tbody tr th:only-of-type {\n",
       "        vertical-align: middle;\n",
       "    }\n",
       "\n",
       "    .dataframe tbody tr th {\n",
       "        vertical-align: top;\n",
       "    }\n",
       "\n",
       "    .dataframe thead th {\n",
       "        text-align: right;\n",
       "    }\n",
       "</style>\n",
       "<table border=\"1\" class=\"dataframe\">\n",
       "  <thead>\n",
       "    <tr style=\"text-align: right;\">\n",
       "      <th></th>\n",
       "      <th>Unnamed: 0</th>\n",
       "      <th>POINT(137.2331301 36.7425277)</th>\n",
       "      <th>POINT(140.8733429 38.2932172)</th>\n",
       "      <th>POINT(139.1103334 36.2974922)</th>\n",
       "      <th>POINT(140.957261 37.6422006)</th>\n",
       "      <th>POINT(139.2619009 36.0594871)</th>\n",
       "      <th>POINT(135.5188107 34.7919888)</th>\n",
       "      <th>POINT(141.7627117 40.1916885)</th>\n",
       "      <th>POINT(140.7468006 41.8188869)</th>\n",
       "      <th>POINT(139.7422865 36.2305774)</th>\n",
       "      <th>...</th>\n",
       "      <th>POINT(139.6184164 35.402381)</th>\n",
       "      <th>POINT(133.7693672 34.5091621)</th>\n",
       "      <th>POINT(134.5801986 34.90361180000001)</th>\n",
       "      <th>POINT(130.9395423 33.8302551)</th>\n",
       "      <th>POINT(141.6892571 42.6698527)</th>\n",
       "      <th>POINT(130.3518793 32.088342)</th>\n",
       "      <th>POINT(141.6309688 42.6576551)</th>\n",
       "      <th>POINT(138.4066959 34.9960412)</th>\n",
       "      <th>POINT(140.0499266 39.3839601)</th>\n",
       "      <th>POINT(130.4674218 32.9808242)</th>\n",
       "    </tr>\n",
       "    <tr>\n",
       "      <th>TimeStamp</th>\n",
       "      <th></th>\n",
       "      <th></th>\n",
       "      <th></th>\n",
       "      <th></th>\n",
       "      <th></th>\n",
       "      <th></th>\n",
       "      <th></th>\n",
       "      <th></th>\n",
       "      <th></th>\n",
       "      <th></th>\n",
       "      <th></th>\n",
       "      <th></th>\n",
       "      <th></th>\n",
       "      <th></th>\n",
       "      <th></th>\n",
       "      <th></th>\n",
       "      <th></th>\n",
       "      <th></th>\n",
       "      <th></th>\n",
       "      <th></th>\n",
       "      <th></th>\n",
       "    </tr>\n",
       "  </thead>\n",
       "  <tbody>\n",
       "    <tr>\n",
       "      <th>2021-07-01 01:00:00</th>\n",
       "      <td>0</td>\n",
       "      <td>3.0</td>\n",
       "      <td>NaN</td>\n",
       "      <td>NaN</td>\n",
       "      <td>NaN</td>\n",
       "      <td>NaN</td>\n",
       "      <td>NaN</td>\n",
       "      <td>NaN</td>\n",
       "      <td>NaN</td>\n",
       "      <td>NaN</td>\n",
       "      <td>...</td>\n",
       "      <td>12.0</td>\n",
       "      <td>NaN</td>\n",
       "      <td>NaN</td>\n",
       "      <td>1.0</td>\n",
       "      <td>14.0</td>\n",
       "      <td>4.0</td>\n",
       "      <td>NaN</td>\n",
       "      <td>8.0</td>\n",
       "      <td>5.0</td>\n",
       "      <td>23.0</td>\n",
       "    </tr>\n",
       "    <tr>\n",
       "      <th>2021-07-01 02:00:00</th>\n",
       "      <td>1</td>\n",
       "      <td>3.0</td>\n",
       "      <td>NaN</td>\n",
       "      <td>NaN</td>\n",
       "      <td>NaN</td>\n",
       "      <td>NaN</td>\n",
       "      <td>NaN</td>\n",
       "      <td>NaN</td>\n",
       "      <td>NaN</td>\n",
       "      <td>NaN</td>\n",
       "      <td>...</td>\n",
       "      <td>7.0</td>\n",
       "      <td>NaN</td>\n",
       "      <td>NaN</td>\n",
       "      <td>1.0</td>\n",
       "      <td>5.0</td>\n",
       "      <td>5.0</td>\n",
       "      <td>NaN</td>\n",
       "      <td>6.0</td>\n",
       "      <td>4.0</td>\n",
       "      <td>18.0</td>\n",
       "    </tr>\n",
       "    <tr>\n",
       "      <th>2021-07-01 03:00:00</th>\n",
       "      <td>2</td>\n",
       "      <td>4.0</td>\n",
       "      <td>NaN</td>\n",
       "      <td>NaN</td>\n",
       "      <td>NaN</td>\n",
       "      <td>NaN</td>\n",
       "      <td>NaN</td>\n",
       "      <td>8.0</td>\n",
       "      <td>NaN</td>\n",
       "      <td>NaN</td>\n",
       "      <td>...</td>\n",
       "      <td>NaN</td>\n",
       "      <td>NaN</td>\n",
       "      <td>NaN</td>\n",
       "      <td>2.0</td>\n",
       "      <td>4.0</td>\n",
       "      <td>3.0</td>\n",
       "      <td>NaN</td>\n",
       "      <td>6.0</td>\n",
       "      <td>4.0</td>\n",
       "      <td>9.0</td>\n",
       "    </tr>\n",
       "    <tr>\n",
       "      <th>2021-07-01 04:00:00</th>\n",
       "      <td>3</td>\n",
       "      <td>11.0</td>\n",
       "      <td>NaN</td>\n",
       "      <td>NaN</td>\n",
       "      <td>NaN</td>\n",
       "      <td>NaN</td>\n",
       "      <td>NaN</td>\n",
       "      <td>7.0</td>\n",
       "      <td>NaN</td>\n",
       "      <td>NaN</td>\n",
       "      <td>...</td>\n",
       "      <td>7.0</td>\n",
       "      <td>NaN</td>\n",
       "      <td>NaN</td>\n",
       "      <td>3.0</td>\n",
       "      <td>1.0</td>\n",
       "      <td>4.0</td>\n",
       "      <td>NaN</td>\n",
       "      <td>2.0</td>\n",
       "      <td>5.0</td>\n",
       "      <td>1.0</td>\n",
       "    </tr>\n",
       "    <tr>\n",
       "      <th>2021-07-01 05:00:00</th>\n",
       "      <td>4</td>\n",
       "      <td>10.0</td>\n",
       "      <td>NaN</td>\n",
       "      <td>NaN</td>\n",
       "      <td>NaN</td>\n",
       "      <td>NaN</td>\n",
       "      <td>NaN</td>\n",
       "      <td>4.0</td>\n",
       "      <td>NaN</td>\n",
       "      <td>NaN</td>\n",
       "      <td>...</td>\n",
       "      <td>8.0</td>\n",
       "      <td>NaN</td>\n",
       "      <td>NaN</td>\n",
       "      <td>3.0</td>\n",
       "      <td>2.0</td>\n",
       "      <td>4.0</td>\n",
       "      <td>NaN</td>\n",
       "      <td>3.0</td>\n",
       "      <td>5.0</td>\n",
       "      <td>6.0</td>\n",
       "    </tr>\n",
       "    <tr>\n",
       "      <th>...</th>\n",
       "      <td>...</td>\n",
       "      <td>...</td>\n",
       "      <td>...</td>\n",
       "      <td>...</td>\n",
       "      <td>...</td>\n",
       "      <td>...</td>\n",
       "      <td>...</td>\n",
       "      <td>...</td>\n",
       "      <td>...</td>\n",
       "      <td>...</td>\n",
       "      <td>...</td>\n",
       "      <td>...</td>\n",
       "      <td>...</td>\n",
       "      <td>...</td>\n",
       "      <td>...</td>\n",
       "      <td>...</td>\n",
       "      <td>...</td>\n",
       "      <td>...</td>\n",
       "      <td>...</td>\n",
       "      <td>...</td>\n",
       "      <td>...</td>\n",
       "    </tr>\n",
       "    <tr>\n",
       "      <th>2022-07-24 18:00:00</th>\n",
       "      <td>3521</td>\n",
       "      <td>7.0</td>\n",
       "      <td>NaN</td>\n",
       "      <td>NaN</td>\n",
       "      <td>NaN</td>\n",
       "      <td>12.0</td>\n",
       "      <td>NaN</td>\n",
       "      <td>2.0</td>\n",
       "      <td>NaN</td>\n",
       "      <td>NaN</td>\n",
       "      <td>...</td>\n",
       "      <td>11.0</td>\n",
       "      <td>NaN</td>\n",
       "      <td>NaN</td>\n",
       "      <td>20.0</td>\n",
       "      <td>3.0</td>\n",
       "      <td>11.0</td>\n",
       "      <td>NaN</td>\n",
       "      <td>7.0</td>\n",
       "      <td>9.0</td>\n",
       "      <td>12.0</td>\n",
       "    </tr>\n",
       "    <tr>\n",
       "      <th>2022-07-24 19:00:00</th>\n",
       "      <td>3522</td>\n",
       "      <td>8.0</td>\n",
       "      <td>NaN</td>\n",
       "      <td>NaN</td>\n",
       "      <td>NaN</td>\n",
       "      <td>10.0</td>\n",
       "      <td>NaN</td>\n",
       "      <td>2.0</td>\n",
       "      <td>NaN</td>\n",
       "      <td>NaN</td>\n",
       "      <td>...</td>\n",
       "      <td>4.0</td>\n",
       "      <td>NaN</td>\n",
       "      <td>NaN</td>\n",
       "      <td>18.0</td>\n",
       "      <td>34.0</td>\n",
       "      <td>10.0</td>\n",
       "      <td>NaN</td>\n",
       "      <td>8.0</td>\n",
       "      <td>8.0</td>\n",
       "      <td>11.0</td>\n",
       "    </tr>\n",
       "    <tr>\n",
       "      <th>2022-07-24 20:00:00</th>\n",
       "      <td>3523</td>\n",
       "      <td>4.0</td>\n",
       "      <td>NaN</td>\n",
       "      <td>NaN</td>\n",
       "      <td>NaN</td>\n",
       "      <td>9.0</td>\n",
       "      <td>NaN</td>\n",
       "      <td>4.0</td>\n",
       "      <td>NaN</td>\n",
       "      <td>NaN</td>\n",
       "      <td>...</td>\n",
       "      <td>9.0</td>\n",
       "      <td>NaN</td>\n",
       "      <td>NaN</td>\n",
       "      <td>25.0</td>\n",
       "      <td>1.0</td>\n",
       "      <td>10.0</td>\n",
       "      <td>NaN</td>\n",
       "      <td>6.0</td>\n",
       "      <td>705.0</td>\n",
       "      <td>14.0</td>\n",
       "    </tr>\n",
       "    <tr>\n",
       "      <th>2022-07-24 21:00:00</th>\n",
       "      <td>3524</td>\n",
       "      <td>9.0</td>\n",
       "      <td>NaN</td>\n",
       "      <td>NaN</td>\n",
       "      <td>NaN</td>\n",
       "      <td>13.0</td>\n",
       "      <td>NaN</td>\n",
       "      <td>4.0</td>\n",
       "      <td>NaN</td>\n",
       "      <td>NaN</td>\n",
       "      <td>...</td>\n",
       "      <td>7.0</td>\n",
       "      <td>NaN</td>\n",
       "      <td>NaN</td>\n",
       "      <td>19.0</td>\n",
       "      <td>2.0</td>\n",
       "      <td>12.0</td>\n",
       "      <td>NaN</td>\n",
       "      <td>7.0</td>\n",
       "      <td>303.0</td>\n",
       "      <td>18.0</td>\n",
       "    </tr>\n",
       "    <tr>\n",
       "      <th>2022-07-24 22:00:00</th>\n",
       "      <td>3525</td>\n",
       "      <td>5.0</td>\n",
       "      <td>NaN</td>\n",
       "      <td>NaN</td>\n",
       "      <td>NaN</td>\n",
       "      <td>11.0</td>\n",
       "      <td>NaN</td>\n",
       "      <td>4.0</td>\n",
       "      <td>NaN</td>\n",
       "      <td>NaN</td>\n",
       "      <td>...</td>\n",
       "      <td>9.0</td>\n",
       "      <td>NaN</td>\n",
       "      <td>NaN</td>\n",
       "      <td>18.0</td>\n",
       "      <td>1.0</td>\n",
       "      <td>11.0</td>\n",
       "      <td>NaN</td>\n",
       "      <td>6.0</td>\n",
       "      <td>705.0</td>\n",
       "      <td>11.0</td>\n",
       "    </tr>\n",
       "  </tbody>\n",
       "</table>\n",
       "<p>3526 rows × 198 columns</p>\n",
       "</div>"
      ],
      "text/plain": [
       "                     Unnamed: 0  POINT(137.2331301 36.7425277)  \\\n",
       "TimeStamp                                                        \n",
       "2021-07-01 01:00:00           0                            3.0   \n",
       "2021-07-01 02:00:00           1                            3.0   \n",
       "2021-07-01 03:00:00           2                            4.0   \n",
       "2021-07-01 04:00:00           3                           11.0   \n",
       "2021-07-01 05:00:00           4                           10.0   \n",
       "...                         ...                            ...   \n",
       "2022-07-24 18:00:00        3521                            7.0   \n",
       "2022-07-24 19:00:00        3522                            8.0   \n",
       "2022-07-24 20:00:00        3523                            4.0   \n",
       "2022-07-24 21:00:00        3524                            9.0   \n",
       "2022-07-24 22:00:00        3525                            5.0   \n",
       "\n",
       "                     POINT(140.8733429 38.2932172)  \\\n",
       "TimeStamp                                            \n",
       "2021-07-01 01:00:00                            NaN   \n",
       "2021-07-01 02:00:00                            NaN   \n",
       "2021-07-01 03:00:00                            NaN   \n",
       "2021-07-01 04:00:00                            NaN   \n",
       "2021-07-01 05:00:00                            NaN   \n",
       "...                                            ...   \n",
       "2022-07-24 18:00:00                            NaN   \n",
       "2022-07-24 19:00:00                            NaN   \n",
       "2022-07-24 20:00:00                            NaN   \n",
       "2022-07-24 21:00:00                            NaN   \n",
       "2022-07-24 22:00:00                            NaN   \n",
       "\n",
       "                     POINT(139.1103334 36.2974922)  \\\n",
       "TimeStamp                                            \n",
       "2021-07-01 01:00:00                            NaN   \n",
       "2021-07-01 02:00:00                            NaN   \n",
       "2021-07-01 03:00:00                            NaN   \n",
       "2021-07-01 04:00:00                            NaN   \n",
       "2021-07-01 05:00:00                            NaN   \n",
       "...                                            ...   \n",
       "2022-07-24 18:00:00                            NaN   \n",
       "2022-07-24 19:00:00                            NaN   \n",
       "2022-07-24 20:00:00                            NaN   \n",
       "2022-07-24 21:00:00                            NaN   \n",
       "2022-07-24 22:00:00                            NaN   \n",
       "\n",
       "                     POINT(140.957261 37.6422006)  \\\n",
       "TimeStamp                                           \n",
       "2021-07-01 01:00:00                           NaN   \n",
       "2021-07-01 02:00:00                           NaN   \n",
       "2021-07-01 03:00:00                           NaN   \n",
       "2021-07-01 04:00:00                           NaN   \n",
       "2021-07-01 05:00:00                           NaN   \n",
       "...                                           ...   \n",
       "2022-07-24 18:00:00                           NaN   \n",
       "2022-07-24 19:00:00                           NaN   \n",
       "2022-07-24 20:00:00                           NaN   \n",
       "2022-07-24 21:00:00                           NaN   \n",
       "2022-07-24 22:00:00                           NaN   \n",
       "\n",
       "                     POINT(139.2619009 36.0594871)  \\\n",
       "TimeStamp                                            \n",
       "2021-07-01 01:00:00                            NaN   \n",
       "2021-07-01 02:00:00                            NaN   \n",
       "2021-07-01 03:00:00                            NaN   \n",
       "2021-07-01 04:00:00                            NaN   \n",
       "2021-07-01 05:00:00                            NaN   \n",
       "...                                            ...   \n",
       "2022-07-24 18:00:00                           12.0   \n",
       "2022-07-24 19:00:00                           10.0   \n",
       "2022-07-24 20:00:00                            9.0   \n",
       "2022-07-24 21:00:00                           13.0   \n",
       "2022-07-24 22:00:00                           11.0   \n",
       "\n",
       "                     POINT(135.5188107 34.7919888)  \\\n",
       "TimeStamp                                            \n",
       "2021-07-01 01:00:00                            NaN   \n",
       "2021-07-01 02:00:00                            NaN   \n",
       "2021-07-01 03:00:00                            NaN   \n",
       "2021-07-01 04:00:00                            NaN   \n",
       "2021-07-01 05:00:00                            NaN   \n",
       "...                                            ...   \n",
       "2022-07-24 18:00:00                            NaN   \n",
       "2022-07-24 19:00:00                            NaN   \n",
       "2022-07-24 20:00:00                            NaN   \n",
       "2022-07-24 21:00:00                            NaN   \n",
       "2022-07-24 22:00:00                            NaN   \n",
       "\n",
       "                     POINT(141.7627117 40.1916885)  \\\n",
       "TimeStamp                                            \n",
       "2021-07-01 01:00:00                            NaN   \n",
       "2021-07-01 02:00:00                            NaN   \n",
       "2021-07-01 03:00:00                            8.0   \n",
       "2021-07-01 04:00:00                            7.0   \n",
       "2021-07-01 05:00:00                            4.0   \n",
       "...                                            ...   \n",
       "2022-07-24 18:00:00                            2.0   \n",
       "2022-07-24 19:00:00                            2.0   \n",
       "2022-07-24 20:00:00                            4.0   \n",
       "2022-07-24 21:00:00                            4.0   \n",
       "2022-07-24 22:00:00                            4.0   \n",
       "\n",
       "                     POINT(140.7468006 41.8188869)  \\\n",
       "TimeStamp                                            \n",
       "2021-07-01 01:00:00                            NaN   \n",
       "2021-07-01 02:00:00                            NaN   \n",
       "2021-07-01 03:00:00                            NaN   \n",
       "2021-07-01 04:00:00                            NaN   \n",
       "2021-07-01 05:00:00                            NaN   \n",
       "...                                            ...   \n",
       "2022-07-24 18:00:00                            NaN   \n",
       "2022-07-24 19:00:00                            NaN   \n",
       "2022-07-24 20:00:00                            NaN   \n",
       "2022-07-24 21:00:00                            NaN   \n",
       "2022-07-24 22:00:00                            NaN   \n",
       "\n",
       "                     POINT(139.7422865 36.2305774)  ...  \\\n",
       "TimeStamp                                           ...   \n",
       "2021-07-01 01:00:00                            NaN  ...   \n",
       "2021-07-01 02:00:00                            NaN  ...   \n",
       "2021-07-01 03:00:00                            NaN  ...   \n",
       "2021-07-01 04:00:00                            NaN  ...   \n",
       "2021-07-01 05:00:00                            NaN  ...   \n",
       "...                                            ...  ...   \n",
       "2022-07-24 18:00:00                            NaN  ...   \n",
       "2022-07-24 19:00:00                            NaN  ...   \n",
       "2022-07-24 20:00:00                            NaN  ...   \n",
       "2022-07-24 21:00:00                            NaN  ...   \n",
       "2022-07-24 22:00:00                            NaN  ...   \n",
       "\n",
       "                     POINT(139.6184164 35.402381)  \\\n",
       "TimeStamp                                           \n",
       "2021-07-01 01:00:00                          12.0   \n",
       "2021-07-01 02:00:00                           7.0   \n",
       "2021-07-01 03:00:00                           NaN   \n",
       "2021-07-01 04:00:00                           7.0   \n",
       "2021-07-01 05:00:00                           8.0   \n",
       "...                                           ...   \n",
       "2022-07-24 18:00:00                          11.0   \n",
       "2022-07-24 19:00:00                           4.0   \n",
       "2022-07-24 20:00:00                           9.0   \n",
       "2022-07-24 21:00:00                           7.0   \n",
       "2022-07-24 22:00:00                           9.0   \n",
       "\n",
       "                     POINT(133.7693672 34.5091621)  \\\n",
       "TimeStamp                                            \n",
       "2021-07-01 01:00:00                            NaN   \n",
       "2021-07-01 02:00:00                            NaN   \n",
       "2021-07-01 03:00:00                            NaN   \n",
       "2021-07-01 04:00:00                            NaN   \n",
       "2021-07-01 05:00:00                            NaN   \n",
       "...                                            ...   \n",
       "2022-07-24 18:00:00                            NaN   \n",
       "2022-07-24 19:00:00                            NaN   \n",
       "2022-07-24 20:00:00                            NaN   \n",
       "2022-07-24 21:00:00                            NaN   \n",
       "2022-07-24 22:00:00                            NaN   \n",
       "\n",
       "                     POINT(134.5801986 34.90361180000001)  \\\n",
       "TimeStamp                                                   \n",
       "2021-07-01 01:00:00                                   NaN   \n",
       "2021-07-01 02:00:00                                   NaN   \n",
       "2021-07-01 03:00:00                                   NaN   \n",
       "2021-07-01 04:00:00                                   NaN   \n",
       "2021-07-01 05:00:00                                   NaN   \n",
       "...                                                   ...   \n",
       "2022-07-24 18:00:00                                   NaN   \n",
       "2022-07-24 19:00:00                                   NaN   \n",
       "2022-07-24 20:00:00                                   NaN   \n",
       "2022-07-24 21:00:00                                   NaN   \n",
       "2022-07-24 22:00:00                                   NaN   \n",
       "\n",
       "                     POINT(130.9395423 33.8302551)  \\\n",
       "TimeStamp                                            \n",
       "2021-07-01 01:00:00                            1.0   \n",
       "2021-07-01 02:00:00                            1.0   \n",
       "2021-07-01 03:00:00                            2.0   \n",
       "2021-07-01 04:00:00                            3.0   \n",
       "2021-07-01 05:00:00                            3.0   \n",
       "...                                            ...   \n",
       "2022-07-24 18:00:00                           20.0   \n",
       "2022-07-24 19:00:00                           18.0   \n",
       "2022-07-24 20:00:00                           25.0   \n",
       "2022-07-24 21:00:00                           19.0   \n",
       "2022-07-24 22:00:00                           18.0   \n",
       "\n",
       "                     POINT(141.6892571 42.6698527)  \\\n",
       "TimeStamp                                            \n",
       "2021-07-01 01:00:00                           14.0   \n",
       "2021-07-01 02:00:00                            5.0   \n",
       "2021-07-01 03:00:00                            4.0   \n",
       "2021-07-01 04:00:00                            1.0   \n",
       "2021-07-01 05:00:00                            2.0   \n",
       "...                                            ...   \n",
       "2022-07-24 18:00:00                            3.0   \n",
       "2022-07-24 19:00:00                           34.0   \n",
       "2022-07-24 20:00:00                            1.0   \n",
       "2022-07-24 21:00:00                            2.0   \n",
       "2022-07-24 22:00:00                            1.0   \n",
       "\n",
       "                     POINT(130.3518793 32.088342)  \\\n",
       "TimeStamp                                           \n",
       "2021-07-01 01:00:00                           4.0   \n",
       "2021-07-01 02:00:00                           5.0   \n",
       "2021-07-01 03:00:00                           3.0   \n",
       "2021-07-01 04:00:00                           4.0   \n",
       "2021-07-01 05:00:00                           4.0   \n",
       "...                                           ...   \n",
       "2022-07-24 18:00:00                          11.0   \n",
       "2022-07-24 19:00:00                          10.0   \n",
       "2022-07-24 20:00:00                          10.0   \n",
       "2022-07-24 21:00:00                          12.0   \n",
       "2022-07-24 22:00:00                          11.0   \n",
       "\n",
       "                     POINT(141.6309688 42.6576551)  \\\n",
       "TimeStamp                                            \n",
       "2021-07-01 01:00:00                            NaN   \n",
       "2021-07-01 02:00:00                            NaN   \n",
       "2021-07-01 03:00:00                            NaN   \n",
       "2021-07-01 04:00:00                            NaN   \n",
       "2021-07-01 05:00:00                            NaN   \n",
       "...                                            ...   \n",
       "2022-07-24 18:00:00                            NaN   \n",
       "2022-07-24 19:00:00                            NaN   \n",
       "2022-07-24 20:00:00                            NaN   \n",
       "2022-07-24 21:00:00                            NaN   \n",
       "2022-07-24 22:00:00                            NaN   \n",
       "\n",
       "                     POINT(138.4066959 34.9960412)  \\\n",
       "TimeStamp                                            \n",
       "2021-07-01 01:00:00                            8.0   \n",
       "2021-07-01 02:00:00                            6.0   \n",
       "2021-07-01 03:00:00                            6.0   \n",
       "2021-07-01 04:00:00                            2.0   \n",
       "2021-07-01 05:00:00                            3.0   \n",
       "...                                            ...   \n",
       "2022-07-24 18:00:00                            7.0   \n",
       "2022-07-24 19:00:00                            8.0   \n",
       "2022-07-24 20:00:00                            6.0   \n",
       "2022-07-24 21:00:00                            7.0   \n",
       "2022-07-24 22:00:00                            6.0   \n",
       "\n",
       "                     POINT(140.0499266 39.3839601)  \\\n",
       "TimeStamp                                            \n",
       "2021-07-01 01:00:00                            5.0   \n",
       "2021-07-01 02:00:00                            4.0   \n",
       "2021-07-01 03:00:00                            4.0   \n",
       "2021-07-01 04:00:00                            5.0   \n",
       "2021-07-01 05:00:00                            5.0   \n",
       "...                                            ...   \n",
       "2022-07-24 18:00:00                            9.0   \n",
       "2022-07-24 19:00:00                            8.0   \n",
       "2022-07-24 20:00:00                          705.0   \n",
       "2022-07-24 21:00:00                          303.0   \n",
       "2022-07-24 22:00:00                          705.0   \n",
       "\n",
       "                     POINT(130.4674218 32.9808242)  \n",
       "TimeStamp                                           \n",
       "2021-07-01 01:00:00                           23.0  \n",
       "2021-07-01 02:00:00                           18.0  \n",
       "2021-07-01 03:00:00                            9.0  \n",
       "2021-07-01 04:00:00                            1.0  \n",
       "2021-07-01 05:00:00                            6.0  \n",
       "...                                            ...  \n",
       "2022-07-24 18:00:00                           12.0  \n",
       "2022-07-24 19:00:00                           11.0  \n",
       "2022-07-24 20:00:00                           14.0  \n",
       "2022-07-24 21:00:00                           18.0  \n",
       "2022-07-24 22:00:00                           11.0  \n",
       "\n",
       "[3526 rows x 198 columns]"
      ]
     },
     "execution_count": 12,
     "metadata": {},
     "output_type": "execute_result"
    }
   ],
   "source": [
    "import pandas as pd\n",
    "dataset = pd.read_csv('airPollution.csv', index_col=\"TimeStamp\")\n",
    "\n",
    "dataset\n",
    "# you can notice that dataset is collected from 2018-01-01 01:00:00 hours to 2023-04-25 22:00:00 hours (5+ years)"
   ]
  },
  {
   "cell_type": "markdown",
   "metadata": {
    "id": "iWly9YgIHoFd"
   },
   "source": [
    "3.4 fill NAN value to 0"
   ]
  },
  {
   "cell_type": "code",
   "execution_count": 13,
   "metadata": {
    "colab": {
     "base_uri": "https://localhost:8080/",
     "height": 391
    },
    "id": "fZbLoI2O_s8S",
    "outputId": "e49ad6e6-df22-4935-8ab7-fdd0664687cb"
   },
   "outputs": [
    {
     "data": {
      "text/html": [
       "<div>\n",
       "<style scoped>\n",
       "    .dataframe tbody tr th:only-of-type {\n",
       "        vertical-align: middle;\n",
       "    }\n",
       "\n",
       "    .dataframe tbody tr th {\n",
       "        vertical-align: top;\n",
       "    }\n",
       "\n",
       "    .dataframe thead th {\n",
       "        text-align: right;\n",
       "    }\n",
       "</style>\n",
       "<table border=\"1\" class=\"dataframe\">\n",
       "  <thead>\n",
       "    <tr style=\"text-align: right;\">\n",
       "      <th></th>\n",
       "      <th>Unnamed: 0</th>\n",
       "      <th>POINT(137.2331301 36.7425277)</th>\n",
       "      <th>POINT(140.8733429 38.2932172)</th>\n",
       "      <th>POINT(139.1103334 36.2974922)</th>\n",
       "      <th>POINT(140.957261 37.6422006)</th>\n",
       "      <th>POINT(139.2619009 36.0594871)</th>\n",
       "      <th>POINT(135.5188107 34.7919888)</th>\n",
       "      <th>POINT(141.7627117 40.1916885)</th>\n",
       "      <th>POINT(140.7468006 41.8188869)</th>\n",
       "      <th>POINT(139.7422865 36.2305774)</th>\n",
       "      <th>...</th>\n",
       "      <th>POINT(139.6184164 35.402381)</th>\n",
       "      <th>POINT(133.7693672 34.5091621)</th>\n",
       "      <th>POINT(134.5801986 34.90361180000001)</th>\n",
       "      <th>POINT(130.9395423 33.8302551)</th>\n",
       "      <th>POINT(141.6892571 42.6698527)</th>\n",
       "      <th>POINT(130.3518793 32.088342)</th>\n",
       "      <th>POINT(141.6309688 42.6576551)</th>\n",
       "      <th>POINT(138.4066959 34.9960412)</th>\n",
       "      <th>POINT(140.0499266 39.3839601)</th>\n",
       "      <th>POINT(130.4674218 32.9808242)</th>\n",
       "    </tr>\n",
       "    <tr>\n",
       "      <th>TimeStamp</th>\n",
       "      <th></th>\n",
       "      <th></th>\n",
       "      <th></th>\n",
       "      <th></th>\n",
       "      <th></th>\n",
       "      <th></th>\n",
       "      <th></th>\n",
       "      <th></th>\n",
       "      <th></th>\n",
       "      <th></th>\n",
       "      <th></th>\n",
       "      <th></th>\n",
       "      <th></th>\n",
       "      <th></th>\n",
       "      <th></th>\n",
       "      <th></th>\n",
       "      <th></th>\n",
       "      <th></th>\n",
       "      <th></th>\n",
       "      <th></th>\n",
       "      <th></th>\n",
       "    </tr>\n",
       "  </thead>\n",
       "  <tbody>\n",
       "    <tr>\n",
       "      <th>2021-07-01 01:00:00</th>\n",
       "      <td>0</td>\n",
       "      <td>3.0</td>\n",
       "      <td>0.0</td>\n",
       "      <td>0.0</td>\n",
       "      <td>0.0</td>\n",
       "      <td>0.0</td>\n",
       "      <td>0.0</td>\n",
       "      <td>0.0</td>\n",
       "      <td>0.0</td>\n",
       "      <td>0.0</td>\n",
       "      <td>...</td>\n",
       "      <td>12.0</td>\n",
       "      <td>0.0</td>\n",
       "      <td>0.0</td>\n",
       "      <td>1.0</td>\n",
       "      <td>14.0</td>\n",
       "      <td>4.0</td>\n",
       "      <td>0.0</td>\n",
       "      <td>8.0</td>\n",
       "      <td>5.0</td>\n",
       "      <td>23.0</td>\n",
       "    </tr>\n",
       "    <tr>\n",
       "      <th>2021-07-01 02:00:00</th>\n",
       "      <td>1</td>\n",
       "      <td>3.0</td>\n",
       "      <td>0.0</td>\n",
       "      <td>0.0</td>\n",
       "      <td>0.0</td>\n",
       "      <td>0.0</td>\n",
       "      <td>0.0</td>\n",
       "      <td>0.0</td>\n",
       "      <td>0.0</td>\n",
       "      <td>0.0</td>\n",
       "      <td>...</td>\n",
       "      <td>7.0</td>\n",
       "      <td>0.0</td>\n",
       "      <td>0.0</td>\n",
       "      <td>1.0</td>\n",
       "      <td>5.0</td>\n",
       "      <td>5.0</td>\n",
       "      <td>0.0</td>\n",
       "      <td>6.0</td>\n",
       "      <td>4.0</td>\n",
       "      <td>18.0</td>\n",
       "    </tr>\n",
       "    <tr>\n",
       "      <th>2021-07-01 03:00:00</th>\n",
       "      <td>2</td>\n",
       "      <td>4.0</td>\n",
       "      <td>0.0</td>\n",
       "      <td>0.0</td>\n",
       "      <td>0.0</td>\n",
       "      <td>0.0</td>\n",
       "      <td>0.0</td>\n",
       "      <td>8.0</td>\n",
       "      <td>0.0</td>\n",
       "      <td>0.0</td>\n",
       "      <td>...</td>\n",
       "      <td>0.0</td>\n",
       "      <td>0.0</td>\n",
       "      <td>0.0</td>\n",
       "      <td>2.0</td>\n",
       "      <td>4.0</td>\n",
       "      <td>3.0</td>\n",
       "      <td>0.0</td>\n",
       "      <td>6.0</td>\n",
       "      <td>4.0</td>\n",
       "      <td>9.0</td>\n",
       "    </tr>\n",
       "    <tr>\n",
       "      <th>2021-07-01 04:00:00</th>\n",
       "      <td>3</td>\n",
       "      <td>11.0</td>\n",
       "      <td>0.0</td>\n",
       "      <td>0.0</td>\n",
       "      <td>0.0</td>\n",
       "      <td>0.0</td>\n",
       "      <td>0.0</td>\n",
       "      <td>7.0</td>\n",
       "      <td>0.0</td>\n",
       "      <td>0.0</td>\n",
       "      <td>...</td>\n",
       "      <td>7.0</td>\n",
       "      <td>0.0</td>\n",
       "      <td>0.0</td>\n",
       "      <td>3.0</td>\n",
       "      <td>1.0</td>\n",
       "      <td>4.0</td>\n",
       "      <td>0.0</td>\n",
       "      <td>2.0</td>\n",
       "      <td>5.0</td>\n",
       "      <td>1.0</td>\n",
       "    </tr>\n",
       "    <tr>\n",
       "      <th>2021-07-01 05:00:00</th>\n",
       "      <td>4</td>\n",
       "      <td>10.0</td>\n",
       "      <td>0.0</td>\n",
       "      <td>0.0</td>\n",
       "      <td>0.0</td>\n",
       "      <td>0.0</td>\n",
       "      <td>0.0</td>\n",
       "      <td>4.0</td>\n",
       "      <td>0.0</td>\n",
       "      <td>0.0</td>\n",
       "      <td>...</td>\n",
       "      <td>8.0</td>\n",
       "      <td>0.0</td>\n",
       "      <td>0.0</td>\n",
       "      <td>3.0</td>\n",
       "      <td>2.0</td>\n",
       "      <td>4.0</td>\n",
       "      <td>0.0</td>\n",
       "      <td>3.0</td>\n",
       "      <td>5.0</td>\n",
       "      <td>6.0</td>\n",
       "    </tr>\n",
       "  </tbody>\n",
       "</table>\n",
       "<p>5 rows × 198 columns</p>\n",
       "</div>"
      ],
      "text/plain": [
       "                     Unnamed: 0  POINT(137.2331301 36.7425277)  \\\n",
       "TimeStamp                                                        \n",
       "2021-07-01 01:00:00           0                            3.0   \n",
       "2021-07-01 02:00:00           1                            3.0   \n",
       "2021-07-01 03:00:00           2                            4.0   \n",
       "2021-07-01 04:00:00           3                           11.0   \n",
       "2021-07-01 05:00:00           4                           10.0   \n",
       "\n",
       "                     POINT(140.8733429 38.2932172)  \\\n",
       "TimeStamp                                            \n",
       "2021-07-01 01:00:00                            0.0   \n",
       "2021-07-01 02:00:00                            0.0   \n",
       "2021-07-01 03:00:00                            0.0   \n",
       "2021-07-01 04:00:00                            0.0   \n",
       "2021-07-01 05:00:00                            0.0   \n",
       "\n",
       "                     POINT(139.1103334 36.2974922)  \\\n",
       "TimeStamp                                            \n",
       "2021-07-01 01:00:00                            0.0   \n",
       "2021-07-01 02:00:00                            0.0   \n",
       "2021-07-01 03:00:00                            0.0   \n",
       "2021-07-01 04:00:00                            0.0   \n",
       "2021-07-01 05:00:00                            0.0   \n",
       "\n",
       "                     POINT(140.957261 37.6422006)  \\\n",
       "TimeStamp                                           \n",
       "2021-07-01 01:00:00                           0.0   \n",
       "2021-07-01 02:00:00                           0.0   \n",
       "2021-07-01 03:00:00                           0.0   \n",
       "2021-07-01 04:00:00                           0.0   \n",
       "2021-07-01 05:00:00                           0.0   \n",
       "\n",
       "                     POINT(139.2619009 36.0594871)  \\\n",
       "TimeStamp                                            \n",
       "2021-07-01 01:00:00                            0.0   \n",
       "2021-07-01 02:00:00                            0.0   \n",
       "2021-07-01 03:00:00                            0.0   \n",
       "2021-07-01 04:00:00                            0.0   \n",
       "2021-07-01 05:00:00                            0.0   \n",
       "\n",
       "                     POINT(135.5188107 34.7919888)  \\\n",
       "TimeStamp                                            \n",
       "2021-07-01 01:00:00                            0.0   \n",
       "2021-07-01 02:00:00                            0.0   \n",
       "2021-07-01 03:00:00                            0.0   \n",
       "2021-07-01 04:00:00                            0.0   \n",
       "2021-07-01 05:00:00                            0.0   \n",
       "\n",
       "                     POINT(141.7627117 40.1916885)  \\\n",
       "TimeStamp                                            \n",
       "2021-07-01 01:00:00                            0.0   \n",
       "2021-07-01 02:00:00                            0.0   \n",
       "2021-07-01 03:00:00                            8.0   \n",
       "2021-07-01 04:00:00                            7.0   \n",
       "2021-07-01 05:00:00                            4.0   \n",
       "\n",
       "                     POINT(140.7468006 41.8188869)  \\\n",
       "TimeStamp                                            \n",
       "2021-07-01 01:00:00                            0.0   \n",
       "2021-07-01 02:00:00                            0.0   \n",
       "2021-07-01 03:00:00                            0.0   \n",
       "2021-07-01 04:00:00                            0.0   \n",
       "2021-07-01 05:00:00                            0.0   \n",
       "\n",
       "                     POINT(139.7422865 36.2305774)  ...  \\\n",
       "TimeStamp                                           ...   \n",
       "2021-07-01 01:00:00                            0.0  ...   \n",
       "2021-07-01 02:00:00                            0.0  ...   \n",
       "2021-07-01 03:00:00                            0.0  ...   \n",
       "2021-07-01 04:00:00                            0.0  ...   \n",
       "2021-07-01 05:00:00                            0.0  ...   \n",
       "\n",
       "                     POINT(139.6184164 35.402381)  \\\n",
       "TimeStamp                                           \n",
       "2021-07-01 01:00:00                          12.0   \n",
       "2021-07-01 02:00:00                           7.0   \n",
       "2021-07-01 03:00:00                           0.0   \n",
       "2021-07-01 04:00:00                           7.0   \n",
       "2021-07-01 05:00:00                           8.0   \n",
       "\n",
       "                     POINT(133.7693672 34.5091621)  \\\n",
       "TimeStamp                                            \n",
       "2021-07-01 01:00:00                            0.0   \n",
       "2021-07-01 02:00:00                            0.0   \n",
       "2021-07-01 03:00:00                            0.0   \n",
       "2021-07-01 04:00:00                            0.0   \n",
       "2021-07-01 05:00:00                            0.0   \n",
       "\n",
       "                     POINT(134.5801986 34.90361180000001)  \\\n",
       "TimeStamp                                                   \n",
       "2021-07-01 01:00:00                                   0.0   \n",
       "2021-07-01 02:00:00                                   0.0   \n",
       "2021-07-01 03:00:00                                   0.0   \n",
       "2021-07-01 04:00:00                                   0.0   \n",
       "2021-07-01 05:00:00                                   0.0   \n",
       "\n",
       "                     POINT(130.9395423 33.8302551)  \\\n",
       "TimeStamp                                            \n",
       "2021-07-01 01:00:00                            1.0   \n",
       "2021-07-01 02:00:00                            1.0   \n",
       "2021-07-01 03:00:00                            2.0   \n",
       "2021-07-01 04:00:00                            3.0   \n",
       "2021-07-01 05:00:00                            3.0   \n",
       "\n",
       "                     POINT(141.6892571 42.6698527)  \\\n",
       "TimeStamp                                            \n",
       "2021-07-01 01:00:00                           14.0   \n",
       "2021-07-01 02:00:00                            5.0   \n",
       "2021-07-01 03:00:00                            4.0   \n",
       "2021-07-01 04:00:00                            1.0   \n",
       "2021-07-01 05:00:00                            2.0   \n",
       "\n",
       "                     POINT(130.3518793 32.088342)  \\\n",
       "TimeStamp                                           \n",
       "2021-07-01 01:00:00                           4.0   \n",
       "2021-07-01 02:00:00                           5.0   \n",
       "2021-07-01 03:00:00                           3.0   \n",
       "2021-07-01 04:00:00                           4.0   \n",
       "2021-07-01 05:00:00                           4.0   \n",
       "\n",
       "                     POINT(141.6309688 42.6576551)  \\\n",
       "TimeStamp                                            \n",
       "2021-07-01 01:00:00                            0.0   \n",
       "2021-07-01 02:00:00                            0.0   \n",
       "2021-07-01 03:00:00                            0.0   \n",
       "2021-07-01 04:00:00                            0.0   \n",
       "2021-07-01 05:00:00                            0.0   \n",
       "\n",
       "                     POINT(138.4066959 34.9960412)  \\\n",
       "TimeStamp                                            \n",
       "2021-07-01 01:00:00                            8.0   \n",
       "2021-07-01 02:00:00                            6.0   \n",
       "2021-07-01 03:00:00                            6.0   \n",
       "2021-07-01 04:00:00                            2.0   \n",
       "2021-07-01 05:00:00                            3.0   \n",
       "\n",
       "                     POINT(140.0499266 39.3839601)  \\\n",
       "TimeStamp                                            \n",
       "2021-07-01 01:00:00                            5.0   \n",
       "2021-07-01 02:00:00                            4.0   \n",
       "2021-07-01 03:00:00                            4.0   \n",
       "2021-07-01 04:00:00                            5.0   \n",
       "2021-07-01 05:00:00                            5.0   \n",
       "\n",
       "                     POINT(130.4674218 32.9808242)  \n",
       "TimeStamp                                           \n",
       "2021-07-01 01:00:00                           23.0  \n",
       "2021-07-01 02:00:00                           18.0  \n",
       "2021-07-01 03:00:00                            9.0  \n",
       "2021-07-01 04:00:00                            1.0  \n",
       "2021-07-01 05:00:00                            6.0  \n",
       "\n",
       "[5 rows x 198 columns]"
      ]
     },
     "execution_count": 13,
     "metadata": {},
     "output_type": "execute_result"
    }
   ],
   "source": [
    "dataset = dataset.fillna(0)\n",
    "dataset.head()"
   ]
  },
  {
   "cell_type": "markdown",
   "metadata": {
    "id": "t4WkEfFmHsih"
   },
   "source": [
    "3.5 convert the database sequential database and save it in \"airDatabase.txt\""
   ]
  },
  {
   "cell_type": "code",
   "execution_count": 14,
   "metadata": {
    "id": "MJELvnZBAFIq"
   },
   "outputs": [],
   "source": [
    "class convertDenseDataframe2SequenceDatabase:\n",
    "\n",
    "  seq=[]\n",
    "  def __init__(self,df,minScore):\n",
    "\n",
    "      hour=0\n",
    "      row=[]\n",
    "      last=str(0000)\n",
    "      for i in df.index:\n",
    "          if last!=i[6:10] and row!=[]:\n",
    "              row.append(-2)\n",
    "              self.seq.append(row)\n",
    "              row=[]\n",
    "          last=i[6:10]\n",
    "          for k in df.columns[1:]:\n",
    "              if k != \"TimeStamp\":\n",
    "                  if df.loc[i,k]>=minScore:\n",
    "                      row.append(k)\n",
    "          if row!=[] and row[-1]!=-1:\n",
    "              row.append(-1)\n",
    "      row.append(-2)\n",
    "      self.seq.append(row)\n",
    "\n",
    "  def getSequence(self):\n",
    "    return self.seq\n",
    "\n",
    "  def save(self,outputFileName):\n",
    "        with open(outputFileName, 'w') as f:\n",
    "            for d in self.seq:\n",
    "                for i in d:\n",
    "                    p=str(i).replace(\" \",\",\")\n",
    "                    f.write(\"%s\\t\" % p)\n",
    "                f.write(\"\\n\")"
   ]
  },
  {
   "cell_type": "code",
   "execution_count": 15,
   "metadata": {
    "id": "NeKXAwh1CyKe"
   },
   "outputs": [],
   "source": [
    "dataset = pd.read_csv('airPollution.csv',index_col=\"TimeStamp\")\n",
    "x=convertDenseDataframe2SequenceDatabase(dataset,15)\n",
    "seq=x.getSequence()\n",
    "x.save(\"airDatabase.txt\")\n"
   ]
  },
  {
   "cell_type": "markdown",
   "metadata": {
    "id": "mAOOrA66vz4P"
   },
   "source": [
    "4 Printing few lines of a dataset to know its format."
   ]
  },
  {
   "cell_type": "markdown",
   "metadata": {
    "id": "0C265bNuuVtc"
   },
   "source": [
    "4.1 sequential dataset"
   ]
  },
  {
   "cell_type": "code",
   "execution_count": 16,
   "metadata": {
    "colab": {
     "base_uri": "https://localhost:8080/"
    },
    "id": "n7QT-TyYDGYm",
    "outputId": "c9ab99e5-15b4-482f-adce-c908a2f47aa6"
   },
   "outputs": [
    {
     "name": "stdout",
     "output_type": "stream",
     "text": [
      "POINT(130.601994,32.507843)\tPOINT(132.2165637,34.1698473)\tPOINT(136.6548337,35.0051925)\tPOINT(130.2113464,32.7321302)\tPOINT(132.7326196,33.8884275)\tPOINT(130.3597423,33.5840497)\tPOINT(130.4105582,33.6051041)\tPOINT(132.7283802,33.8225127)\tPOINT(140.1138229,37.919914)\tPOINT(130.4674218,32.9808242)\t-1\tPOINT(130.601994,32.507843)\tPOINT(132.2165637,34.1698473)\tPOINT(132.7326196,33.8884275)\tPOINT(130.3597423,33.5840497)\tPOINT(136.603013,36.598011)\tPOINT(130.4105582,33.6051041)\tPOINT(132.7283802,33.8225127)\tPOINT(130.4674218,32.9808242)\t-1\tPOINT(130.601994,32.507843)\tPOINT(132.2165637,34.1698473)\tPOINT(130.3597423,33.5840497)\tPOINT(132.7283802,33.8225127)\t-1\tPOINT(130.601994,32.507843)\tPOINT(136.6548337,35.0051925)\tPOINT(130.3597423,33.5840497)\tPOINT(132.7283802,33.8225127)\t-1\tPOINT(130.601994,32.507843)\tPOINT(140.1138229,37.919914)\t-1\tPOINT(130.601994,32.507843)\tPOINT(141.6892571,42.6698527)\t-1\tPOINT(136.603013,36.598011)\t-1\tPOINT(136.603013,36.598011)\t-1\tPOINT(136.6548337,35.0051925)\tPOINT(130.2113464,32.7321302)\tPOINT(140.1138229,37.919914)\t-1\tPOINT(141.7627117,40.1916885)\tPOINT(140.3406186,38.2702593)\tPOINT(130.4674218,32.9808242)\t-1\tPOINT(141.7627117,40.1916885)\tPOINT(132.7283802,33.8225127)\tPOINT(130.4674218,32.9808242)\t-1\tPOINT(141.7627117,40.1916885)\t-1\tPOINT(141.7627117,40.1916885)\tPOINT(132.2165637,34.1698473)\tPOINT(140.4396435,40.5942053)\tPOINT(136.603013,36.598011)\tPOINT(130.9612121,33.8854016)\tPOINT(140.0776785,35.4879615)\t-1\tPOINT(141.7627117,40.1916885)\tPOINT(132.2165637,34.1698473)\tPOINT(140.4396435,40.5942053)\tPOINT(132.7283802,33.8225127)\t-1\tPOINT(141.7627117,40.1916885)\tPOINT(140.4021967,36.555081)\tPOINT(140.4396435,40.5942053)\tPOINT(127.8197995,26.3478034)\tPOINT(141.6892571,42.6698527)\t-1\tPOINT(140.4396435,40.5942053)\tPOINT(130.3597423,33.5840497)\tPOINT(140.3406186,38.2702593)\tPOINT(127.8197995,26.3478034)\t-1\tPOINT(140.4396435,40.5942053)\tPOINT(130.3597423,33.5840497)\tPOINT(127.8197995,26.3478034)\tPOINT(136.603013,36.598011)\tPOINT(140.0776785,35.4879615)\t-1\tPOINT(140.4396435,40.5942053)\tPOINT(130.3597423,33.5840497)\tPOINT(127.8197995,26.3478034)\tPOINT(137.391511,34.7692439)\tPOINT(144.3636328,43.0214076)\tPOINT(141.6892571,42.6698527)\t-1\tPOINT(130.601994,32.507843)\tPOINT(140.4396435,40.5942053)\tPOINT(127.8197995,26.3478034)\tPOINT(144.3636328,43.0214076)\t-1\tPOINT(130.601994,32.507843)\tPOINT(140.4396435,40.5942053)\tPOINT(144.3636328,43.0214076)\t-1\tPOINT(130.601994,32.507843)\t-1\tPOINT(130.601994,32.507843)\tPOINT(137.030104,35.4535332)\tPOINT(130.4674218,32.9808242)\t-1\tPOINT(130.601994,32.507843)\tPOINT(130.9612121,33.8854016)\t-1\t-2\t\n",
      "POINT(132.7283802,33.8225127)\t-1\tPOINT(130.601994,32.507843)\tPOINT(132.7283802,33.8225127)\tPOINT(130.4674218,32.9808242)\t-1\tPOINT(130.601994,32.507843)\t-1\tPOINT(130.601994,32.507843)\tPOINT(139.6681689,36.0701176)\tPOINT(141.6892571,42.6698527)\t-1\tPOINT(130.601994,32.507843)\tPOINT(139.6681689,36.0701176)\tPOINT(130.4674218,32.9808242)\t-1\tPOINT(139.6681689,36.0701176)\tPOINT(130.4674218,32.9808242)\t-1\tPOINT(130.601994,32.507843)\tPOINT(132.7326196,33.8884275)\t-1\tPOINT(130.601994,32.507843)\tPOINT(130.2113464,32.7321302)\tPOINT(132.7326196,33.8884275)\tPOINT(132.7283802,33.8225127)\tPOINT(130.3518793,32.088342)\tPOINT(130.4674218,32.9808242)\t-1\tPOINT(130.601994,32.507843)\tPOINT(132.7326196,33.8884275)\tPOINT(140.3406186,38.2702593)\tPOINT(132.7283802,33.8225127)\tPOINT(141.6892571,42.6698527)\tPOINT(130.3518793,32.088342)\tPOINT(130.4674218,32.9808242)\t-1\tPOINT(130.601994,32.507843)\tPOINT(130.2113464,32.7321302)\tPOINT(141.6892571,42.6698527)\tPOINT(130.4674218,32.9808242)\t-1\tPOINT(141.7627117,40.1916885)\tPOINT(130.601994,32.507843)\tPOINT(130.2113464,32.7321302)\tPOINT(132.7283802,33.8225127)\tPOINT(137.391511,34.7692439)\tPOINT(130.3518793,32.088342)\tPOINT(130.4674218,32.9808242)\t-1\tPOINT(141.7627117,40.1916885)\tPOINT(130.601994,32.507843)\tPOINT(130.2113464,32.7321302)\tPOINT(132.7283802,33.8225127)\tPOINT(130.3518793,32.088342)\tPOINT(130.4674218,32.9808242)\t-1\tPOINT(141.7627117,40.1916885)\tPOINT(130.2113464,32.7321302)\tPOINT(132.7283802,33.8225127)\t-1\tPOINT(141.7627117,40.1916885)\tPOINT(140.4021967,36.555081)\tPOINT(130.601994,32.507843)\tPOINT(136.6548337,35.0051925)\tPOINT(130.2113464,32.7321302)\tPOINT(137.030104,35.4535332)\tPOINT(130.4674218,32.9808242)\t-1\tPOINT(130.601994,32.507843)\tPOINT(130.2113464,32.7321302)\tPOINT(127.8197995,26.3478034)\tPOINT(132.7283802,33.8225127)\tPOINT(130.9612121,33.8854016)\tPOINT(130.4674218,32.9808242)\t-1\tPOINT(130.601994,32.507843)\tPOINT(136.6548337,35.0051925)\tPOINT(133.7570366,34.5800143)\tPOINT(130.9395423,33.8302551)\tPOINT(130.4674218,32.9808242)\t-1\tPOINT(130.601994,32.507843)\tPOINT(130.2113464,32.7321302)\tPOINT(133.7570366,34.5800143)\tPOINT(130.3518793,32.088342)\tPOINT(130.4674218,32.9808242)\t-1\tPOINT(130.601994,32.507843)\tPOINT(136.6548337,35.0051925)\tPOINT(132.7326196,33.8884275)\tPOINT(127.8197995,26.3478034)\tPOINT(130.9612121,33.8854016)\tPOINT(133.6627923,34.1284249)\tPOINT(130.9395423,33.8302551)\tPOINT(130.4674218,32.9808242)\t-1\tPOINT(130.601994,32.507843)\tPOINT(132.2165637,34.1698473)\tPOINT(132.7283802,33.8225127)\tPOINT(130.9612121,33.8854016)\tPOINT(133.7570366,34.5800143)\tPOINT(130.9395423,33.8302551)\tPOINT(130.4674218,32.9808242)\t-1\tPOINT(130.601994,32.507843)\tPOINT(132.2165637,34.1698473)\tPOINT(130.2113464,32.7321302)\tPOINT(137.030104,35.4535332)\tPOINT(132.7283802,33.8225127)\tPOINT(130.9612121,33.8854016)\tPOINT(133.6627923,34.1284249)\t-1\tPOINT(130.601994,32.507843)\tPOINT(132.2165637,34.1698473)\tPOINT(130.2113464,32.7321302)\tPOINT(132.7326196,33.8884275)\tPOINT(132.7283802,33.8225127)\tPOINT(135.1208072,34.6474071)\tPOINT(137.391511,34.7692439)\tPOINT(140.1138229,37.919914)\tPOINT(133.6627923,34.1284249)\tPOINT(130.3518793,32.088342)\tPOINT(130.4674218,32.9808242)\t-1\tPOINT(130.601994,32.507843)\tPOINT(132.2165637,34.1698473)\tPOINT(130.2113464,32.7321302)\tPOINT(140.3406186,38.2702593)\tPOINT(132.7283802,33.8225127)\tPOINT(133.6627923,34.1284249)\tPOINT(130.3518793,32.088342)\tPOINT(130.4674218,32.9808242)\t-1\tPOINT(130.601994,32.507843)\tPOINT(132.2165637,34.1698473)\tPOINT(132.7283802,33.8225127)\tPOINT(133.6627923,34.1284249)\tPOINT(130.3518793,32.088342)\t-1\t-2\t\n"
     ]
    }
   ],
   "source": [
    "!head -2 airDatabase.txt"
   ]
  },
  {
   "cell_type": "markdown",
   "metadata": {
    "id": "fVfNN0nFu_BQ"
   },
   "source": [
    "_format:_ every row contains items seperated by a seperator in one sequence.\n",
    "        _ every row contains subsequence seperated by a \"-1\".\n",
    "        _ every row contains sequence seperated by a \"-2\".\n",
    "\n",
    "__Example:__\n",
    "\n",
    "item1 item2 -1 item3 item4 -1 -2\n",
    "\n",
    "item1 item4 -1 item6 -1 -2"
   ]
  },
  {
   "cell_type": "markdown",
   "metadata": {
    "id": "CHqnUT1qv978"
   },
   "source": [
    "## Part 1: Finding frequent sequential patterns using GSP"
   ]
  },
  {
   "cell_type": "markdown",
   "metadata": {
    "id": "11vhKtCbv-8H"
   },
   "source": [
    "### Step 1: Understanding the statistics of a sequence database"
   ]
  },
  {
   "cell_type": "code",
   "execution_count": 17,
   "metadata": {
    "id": "n9bpMZOFQEpa"
   },
   "outputs": [],
   "source": [
    "#import the class file\n",
    "from PAMI.extras.dbStats import SequentialDatabase as stats\n",
    "\n",
    "#specify the file name\n",
    "inputFile = 'airDatabase.txt'\n",
    "\n",
    "#initialize the class\n",
    "obj=stats.SequentialDatabase(inputFile,sep='\\t')\n",
    "\n",
    "#execute the class\n",
    "obj.readDatabase()"
   ]
  },
  {
   "cell_type": "markdown",
   "metadata": {
    "id": "yKCk0AbNT9I_"
   },
   "source": [
    "## Step 2: Draw the items' frequency graph and sequence length's distribution graphs for more information"
   ]
  },
  {
   "cell_type": "code",
   "execution_count": 18,
   "metadata": {
    "colab": {
     "base_uri": "https://localhost:8080/"
    },
    "id": "Zr6hWoAXT_0b",
    "outputId": "6c54c370-314b-453a-fdc8-0be5151a6a3b"
   },
   "outputs": [
    {
     "name": "stdout",
     "output_type": "stream",
     "text": [
      "Database size (total no of sequence) : 135\n",
      "Number of items : 121\n",
      "Minimum Sequence Size : 1\n",
      "Average Sequence Size : 20.955555555555556\n",
      "Maximum Sequence Size : 24\n",
      "Standard Deviation Sequence Size : 6.568010766746562\n",
      "Variance in Sequence Sizes : 43.460696517412934\n",
      "Sequence size (total no of subsequence) : 2829\n",
      "Minimum subSequence Size : 1\n",
      "Average subSequence Size : 18.83457051961824\n",
      "Maximum subSequence Size : 104\n",
      "Standard Deviation Sequence Size : 18.84802364721196\n",
      "Variance in Sequence Sizes : 355.37361350890427\n"
     ]
    }
   ],
   "source": [
    "obj.printStats()"
   ]
  },
  {
   "cell_type": "markdown",
   "metadata": {
    "id": "yuBbe3UNxIjY"
   },
   "source": [
    "### Step 3: Choosing an appropriate *minSup* value"
   ]
  },
  {
   "cell_type": "code",
   "execution_count": 19,
   "metadata": {
    "id": "FoX7jadOg6EZ"
   },
   "outputs": [],
   "source": [
    "minSup= 0.4 #minSup is specified in count. However, the users can also specify minSup between 0 and 1."
   ]
  },
  {
   "cell_type": "markdown",
   "metadata": {
    "id": "ePs9MPnJUYyY"
   },
   "source": [
    "### Step 4:Mining frequent sequence patterns using prefixSpan"
   ]
  },
  {
   "cell_type": "code",
   "execution_count": 20,
   "metadata": {
    "colab": {
     "base_uri": "https://localhost:8080/"
    },
    "id": "jk12PYvHIqtn",
    "outputId": "c0f742a5-507d-43a5-f6e9-f92949893aa4"
   },
   "outputs": [
    {
     "ename": "ModuleNotFoundError",
     "evalue": "No module named 'PAMI.sequentialPatternMining'",
     "output_type": "error",
     "traceback": [
      "\u001b[0;31m---------------------------------------------------------------------------\u001b[0m",
      "\u001b[0;31mModuleNotFoundError\u001b[0m                       Traceback (most recent call last)",
      "Cell \u001b[0;32mIn[20], line 1\u001b[0m\n\u001b[0;32m----> 1\u001b[0m \u001b[38;5;28;01mfrom\u001b[39;00m \u001b[38;5;21;01mPAMI\u001b[39;00m\u001b[38;5;21;01m.\u001b[39;00m\u001b[38;5;21;01msequentialPatternMining\u001b[39;00m\u001b[38;5;21;01m.\u001b[39;00m\u001b[38;5;21;01mbasic\u001b[39;00m \u001b[38;5;28;01mimport\u001b[39;00m GSP \u001b[38;5;28;01mas\u001b[39;00m alg\n\u001b[1;32m      4\u001b[0m _ap \u001b[38;5;241m=\u001b[39m alg\u001b[38;5;241m.\u001b[39mGSP(\u001b[38;5;124m'\u001b[39m\u001b[38;5;124mairDatabase.txt\u001b[39m\u001b[38;5;124m'\u001b[39m, minSup, \u001b[38;5;124m'\u001b[39m\u001b[38;5;130;01m\\t\u001b[39;00m\u001b[38;5;124m'\u001b[39m)\n\u001b[1;32m      5\u001b[0m _ap\u001b[38;5;241m.\u001b[39mmine()\n",
      "\u001b[0;31mModuleNotFoundError\u001b[0m: No module named 'PAMI.sequentialPatternMining'"
     ]
    }
   ],
   "source": [
    "from PAMI.sequentialPattern.basic import GSP as alg\n",
    "\n",
    "\n",
    "_ap = alg.GSP('airDatabase.txt', minSup, '\\t')\n",
    "_ap.mine()\n",
    "_Patterns = _ap.getPatterns()\n",
    "_memUSS = _ap.getMemoryUSS()\n",
    "print(\"Total Memory in USS:\", _memUSS)\n",
    "_memRSS = _ap.getMemoryRSS()\n",
    "print(\"Total Memory in RSS\", _memRSS)\n",
    "_run = _ap.getRuntime()\n",
    "print(\"Total ExecutionTime in ms:\", _run)\n",
    "print(\"Total number of Frequent Patterns:\", len(_Patterns))\n",
    "_ap.save(\"results.txt\")"
   ]
  },
  {
   "cell_type": "markdown",
   "metadata": {
    "id": "QlhSr4KTxO-1"
   },
   "source": [
    "## Step 5: Investigating the generated patterns\n",
    "Open the patterns' file and investigate the generated patterns. If the generated patterns were interesting, use them; otherwise, redo the Steps 3 and 4 with a different minSup value."
   ]
  },
  {
   "cell_type": "code",
   "execution_count": null,
   "metadata": {
    "colab": {
     "base_uri": "https://localhost:8080/"
    },
    "id": "OZ66biYdii-k",
    "outputId": "8a0ccde0-0ddb-4015-f78d-426c384d6cb1"
   },
   "outputs": [],
   "source": [
    "!head results.txt"
   ]
  },
  {
   "cell_type": "markdown",
   "metadata": {
    "id": "-cBs3nk4xZLA"
   },
   "source": [
    "The storage format is: _frequentPattern:support_"
   ]
  },
  {
   "cell_type": "markdown",
   "metadata": {
    "id": "oogJQyBqxUfq"
   },
   "source": [
    "## Part 2: Evaluating the GSP algorithm on a dataset at different minSup values"
   ]
  },
  {
   "cell_type": "markdown",
   "metadata": {
    "id": "VdaiEmk6xfhX"
   },
   "source": [
    "### Step 1: Import the libraries and specify the input parameters"
   ]
  },
  {
   "cell_type": "code",
   "execution_count": null,
   "metadata": {
    "id": "PXegE9bFjEDs"
   },
   "outputs": [],
   "source": [
    "#Import the libraries\n",
    "from PAMI.sequentialPattern.basic import GSP as alg #import the algorithm\n",
    "import pandas as pd\n",
    "\n",
    "#Specify the input parameters\n",
    "inputFile = \"airDatabase.txt\"\n",
    "seperator='\\t'\n",
    "minimumSupportCountList = [0.4,0.42,0.44,0.46,0.48,0.5]\n",
    "#minimumSupport can also specified between 0 to 1. E.g., minSupList = [0.005, 0.006, 0.007, 0.008, 0.009]"
   ]
  },
  {
   "cell_type": "code",
   "execution_count": null,
   "metadata": {
    "id": "bhgilHZXjG97"
   },
   "outputs": [],
   "source": [
    "result = pd.DataFrame(columns=['algorithm', 'minSup', 'patterns', 'runtime', 'memory'])\n",
    "#initialize a data frame to store the results of prefixSpan algorithm"
   ]
  },
  {
   "cell_type": "code",
   "execution_count": null,
   "metadata": {
    "colab": {
     "base_uri": "https://localhost:8080/"
    },
    "id": "6dMPp4H4jJPc",
    "outputId": "08ffff3c-a719-471d-c754-ed605f0d0399"
   },
   "outputs": [
    {
     "name": "stdout",
     "output_type": "stream",
     "text": [
      "Frequent patterns were generated successfully using prefixSpan algorithm \n",
      "Frequent patterns were generated successfully using prefixSpan algorithm \n",
      "Frequent patterns were generated successfully using prefixSpan algorithm \n",
      "Frequent patterns were generated successfully using prefixSpan algorithm \n",
      "Frequent patterns were generated successfully using prefixSpan algorithm \n",
      "Frequent patterns were generated successfully using prefixSpan algorithm \n"
     ]
    }
   ],
   "source": [
    "for minSupCount in minimumSupportCountList:\n",
    "    obj = alg.GSP(inputFile, minSup=minSupCount,sep=seperator)\n",
    "    obj.mine()\n",
    "    #store the results in the data frame\n",
    "    result.loc[result.shape[0]] = ['prefixSpan', minSupCount, len(obj.getPatterns()), obj.getRuntime(), obj.getMemoryRSS()]"
   ]
  },
  {
   "cell_type": "code",
   "execution_count": null,
   "metadata": {
    "colab": {
     "base_uri": "https://localhost:8080/"
    },
    "id": "yUhnEPCAkD-P",
    "outputId": "24e058db-b105-4cd1-80d4-99d5eb3616d1"
   },
   "outputs": [
    {
     "name": "stdout",
     "output_type": "stream",
     "text": [
      "    algorithm  minSup  patterns     runtime     memory\n",
      "0  prefixSpan    0.40    131263  281.693866  351698944\n",
      "1  prefixSpan    0.42     65522  157.398347  332500992\n",
      "2  prefixSpan    0.44     34350   90.421109  329404416\n",
      "3  prefixSpan    0.46     18587   47.064498  327340032\n",
      "4  prefixSpan    0.48     12596   33.374523  326307840\n",
      "5  prefixSpan    0.50      7264   19.613495  326307840\n"
     ]
    }
   ],
   "source": [
    "print(result)"
   ]
  },
  {
   "cell_type": "code",
   "execution_count": null,
   "metadata": {
    "colab": {
     "base_uri": "https://localhost:8080/",
     "height": 1000
    },
    "id": "ae2guaZZkFrN",
    "outputId": "a85e9d8a-3942-45ae-ee22-5a59c78562ac"
   },
   "outputs": [
    {
     "data": {
      "image/png": "[encoded data removed]",
      "text/plain": [
       "<Figure size 640x480 with 1 Axes>"
      ]
     },
     "metadata": {},
     "output_type": "display_data"
    },
    {
     "name": "stdout",
     "output_type": "stream",
     "text": [
      "Graph for No Of Patterns is successfully generated!\n"
     ]
    },
    {
     "data": {
      "image/png": "[encoded data removed]",
      "text/plain": [
       "<Figure size 640x480 with 1 Axes>"
      ]
     },
     "metadata": {},
     "output_type": "display_data"
    },
    {
     "name": "stdout",
     "output_type": "stream",
     "text": [
      "Graph for Runtime taken is successfully generated!\n"
     ]
    },
    {
     "data": {
      "image/png": "[encoded data removed]",
      "text/plain": [
       "<Figure size 640x480 with 1 Axes>"
      ]
     },
     "metadata": {},
     "output_type": "display_data"
    },
    {
     "name": "stdout",
     "output_type": "stream",
     "text": [
      "Graph for memory consumption is successfully generated!\n"
     ]
    }
   ],
   "source": [
    "from PAMI.extras.graph import plotLineGraphsFromDataFrame as plt\n",
    "\n",
    "ab = plt.plotGraphsFromDataFrame(result)\n",
    "ab.plotGraphsFromDataFrame()"
   ]
  }
 ],
 "metadata": {
  "colab": {
   "provenance": []
  },
  "kernelspec": {
   "display_name": "Python 3 (ipykernel)",
   "language": "python",
   "name": "python3"
  },
  "language_info": {
   "codemirror_mode": {
    "name": "ipython",
    "version": 3
   },
   "file_extension": ".py",
   "mimetype": "text/x-python",
   "name": "python",
   "nbconvert_exporter": "python",
   "pygments_lexer": "ipython3",
   "version": "3.10.14"
  }
 },
 "nbformat": 4,
 "nbformat_minor": 4
}
