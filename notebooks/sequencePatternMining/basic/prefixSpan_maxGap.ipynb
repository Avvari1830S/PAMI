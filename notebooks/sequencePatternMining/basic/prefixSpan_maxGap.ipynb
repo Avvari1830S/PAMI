{
 "cells": [
  {
   "cell_type": "markdown",
   "metadata": {
    "id": "PuC4Pfm6mFTh"
   },
   "source": [
    "# Finding frequent sequential patterns with gaps shorter than specified in sequence databases using prefixSpan"
   ]
  },
  {
   "cell_type": "markdown",
   "metadata": {
    "id": "3MiIceh4mKp1"
   },
   "source": [
    "This tutorial has two parts. In the first part, we describe the basic approach to find frequent patterns in a sequence database using the prefixSpan algorithm. In the final part, we describe an advanced approach, where we evaluate the prefixSpan algorithm on a dataset at different *gAP* threshold."
   ]
  },
  {
   "cell_type": "markdown",
   "metadata": {
    "id": "Qrm_7h1XHLE1"
   },
   "source": [
    "## Prerequisites:"
   ]
  },
  {
   "cell_type": "markdown",
   "metadata": {
    "id": "KHMiKDCWmsOh"
   },
   "source": [
    "1. Installing the PAMI library"
   ]
  },
  {
   "cell_type": "code",
   "execution_count": 1,
   "metadata": {
    "colab": {
     "base_uri": "https://localhost:8080/"
    },
    "id": "Ia2SzREPIg6s",
    "outputId": "ee0bc5f4-9f80-4f2a-e5ea-d167326d9a55"
   },
   "outputs": [
    {
     "name": "stdout",
     "output_type": "stream",
     "text": [
      "Collecting pami\n",
      "  Downloading pami-2024.10.24.2-py3-none-any.whl.metadata (80 kB)\n",
      "\u001b[2K     \u001b[90m━━━━━━━━━━━━━━━━━━━━━━━━━━━━━━━━━━━━━━━━\u001b[0m \u001b[32m80.3/80.3 kB\u001b[0m \u001b[31m3.9 MB/s\u001b[0m eta \u001b[36m0:00:00\u001b[0m\n",
      "\u001b[?25hRequirement already satisfied: psutil in /usr/local/lib/python3.10/dist-packages (from pami) (5.9.5)\n",
      "Requirement already satisfied: pandas in /usr/local/lib/python3.10/dist-packages (from pami) (2.2.2)\n",
      "Requirement already satisfied: plotly in /usr/local/lib/python3.10/dist-packages (from pami) (5.24.1)\n",
      "Requirement already satisfied: matplotlib in /usr/local/lib/python3.10/dist-packages (from pami) (3.7.1)\n",
      "Collecting resource (from pami)\n",
      "  Downloading Resource-0.2.1-py2.py3-none-any.whl.metadata (478 bytes)\n",
      "Collecting validators (from pami)\n",
      "  Downloading validators-0.34.0-py3-none-any.whl.metadata (3.8 kB)\n",
      "Requirement already satisfied: urllib3 in /usr/local/lib/python3.10/dist-packages (from pami) (2.2.3)\n",
      "Requirement already satisfied: Pillow in /usr/local/lib/python3.10/dist-packages (from pami) (10.4.0)\n",
      "Requirement already satisfied: numpy in /usr/local/lib/python3.10/dist-packages (from pami) (1.26.4)\n",
      "Requirement already satisfied: sphinx in /usr/local/lib/python3.10/dist-packages (from pami) (5.0.2)\n",
      "Collecting sphinx-rtd-theme (from pami)\n",
      "  Downloading sphinx_rtd_theme-3.0.1-py2.py3-none-any.whl.metadata (4.4 kB)\n",
      "Collecting discord.py (from pami)\n",
      "  Downloading discord.py-2.4.0-py3-none-any.whl.metadata (6.9 kB)\n",
      "Requirement already satisfied: networkx in /usr/local/lib/python3.10/dist-packages (from pami) (3.4.2)\n",
      "Requirement already satisfied: deprecated in /usr/local/lib/python3.10/dist-packages (from pami) (1.2.14)\n",
      "Requirement already satisfied: wrapt<2,>=1.10 in /usr/local/lib/python3.10/dist-packages (from deprecated->pami) (1.16.0)\n",
      "Requirement already satisfied: aiohttp<4,>=3.7.4 in /usr/local/lib/python3.10/dist-packages (from discord.py->pami) (3.10.10)\n",
      "Requirement already satisfied: contourpy>=1.0.1 in /usr/local/lib/python3.10/dist-packages (from matplotlib->pami) (1.3.0)\n",
      "Requirement already satisfied: cycler>=0.10 in /usr/local/lib/python3.10/dist-packages (from matplotlib->pami) (0.12.1)\n",
      "Requirement already satisfied: fonttools>=4.22.0 in /usr/local/lib/python3.10/dist-packages (from matplotlib->pami) (4.54.1)\n",
      "Requirement already satisfied: kiwisolver>=1.0.1 in /usr/local/lib/python3.10/dist-packages (from matplotlib->pami) (1.4.7)\n",
      "Requirement already satisfied: packaging>=20.0 in /usr/local/lib/python3.10/dist-packages (from matplotlib->pami) (24.1)\n",
      "Requirement already satisfied: pyparsing>=2.3.1 in /usr/local/lib/python3.10/dist-packages (from matplotlib->pami) (3.2.0)\n",
      "Requirement already satisfied: python-dateutil>=2.7 in /usr/local/lib/python3.10/dist-packages (from matplotlib->pami) (2.8.2)\n",
      "Requirement already satisfied: pytz>=2020.1 in /usr/local/lib/python3.10/dist-packages (from pandas->pami) (2024.2)\n",
      "Requirement already satisfied: tzdata>=2022.7 in /usr/local/lib/python3.10/dist-packages (from pandas->pami) (2024.2)\n",
      "Requirement already satisfied: tenacity>=6.2.0 in /usr/local/lib/python3.10/dist-packages (from plotly->pami) (9.0.0)\n",
      "Collecting JsonForm>=0.0.2 (from resource->pami)\n",
      "  Downloading JsonForm-0.0.2.tar.gz (2.4 kB)\n",
      "  Preparing metadata (setup.py) ... \u001b[?25l\u001b[?25hdone\n",
      "Collecting JsonSir>=0.0.2 (from resource->pami)\n",
      "  Downloading JsonSir-0.0.2.tar.gz (2.2 kB)\n",
      "  Preparing metadata (setup.py) ... \u001b[?25l\u001b[?25hdone\n",
      "Collecting python-easyconfig>=0.1.0 (from resource->pami)\n",
      "  Downloading Python_EasyConfig-0.1.7-py2.py3-none-any.whl.metadata (462 bytes)\n",
      "Requirement already satisfied: sphinxcontrib-applehelp in /usr/local/lib/python3.10/dist-packages (from sphinx->pami) (2.0.0)\n",
      "Requirement already satisfied: sphinxcontrib-devhelp in /usr/local/lib/python3.10/dist-packages (from sphinx->pami) (2.0.0)\n",
      "Requirement already satisfied: sphinxcontrib-jsmath in /usr/local/lib/python3.10/dist-packages (from sphinx->pami) (1.0.1)\n",
      "Requirement already satisfied: sphinxcontrib-htmlhelp>=2.0.0 in /usr/local/lib/python3.10/dist-packages (from sphinx->pami) (2.1.0)\n",
      "Requirement already satisfied: sphinxcontrib-serializinghtml>=1.1.5 in /usr/local/lib/python3.10/dist-packages (from sphinx->pami) (2.0.0)\n",
      "Requirement already satisfied: sphinxcontrib-qthelp in /usr/local/lib/python3.10/dist-packages (from sphinx->pami) (2.0.0)\n",
      "Requirement already satisfied: Jinja2>=2.3 in /usr/local/lib/python3.10/dist-packages (from sphinx->pami) (3.1.4)\n",
      "Requirement already satisfied: Pygments>=2.0 in /usr/local/lib/python3.10/dist-packages (from sphinx->pami) (2.18.0)\n",
      "Requirement already satisfied: docutils<0.19,>=0.14 in /usr/local/lib/python3.10/dist-packages (from sphinx->pami) (0.18.1)\n",
      "Requirement already satisfied: snowballstemmer>=1.1 in /usr/local/lib/python3.10/dist-packages (from sphinx->pami) (2.2.0)\n",
      "Requirement already satisfied: babel>=1.3 in /usr/local/lib/python3.10/dist-packages (from sphinx->pami) (2.16.0)\n",
      "Requirement already satisfied: alabaster<0.8,>=0.7 in /usr/local/lib/python3.10/dist-packages (from sphinx->pami) (0.7.16)\n",
      "Requirement already satisfied: imagesize in /usr/local/lib/python3.10/dist-packages (from sphinx->pami) (1.4.1)\n",
      "Requirement already satisfied: requests>=2.5.0 in /usr/local/lib/python3.10/dist-packages (from sphinx->pami) (2.32.3)\n",
      "Collecting sphinx (from pami)\n",
      "  Downloading sphinx-8.1.3-py3-none-any.whl.metadata (6.4 kB)\n",
      "Collecting sphinxcontrib-jquery<5,>=4 (from sphinx-rtd-theme->pami)\n",
      "  Downloading sphinxcontrib_jquery-4.1-py2.py3-none-any.whl.metadata (2.6 kB)\n",
      "Collecting docutils<0.22,>0.18 (from sphinx-rtd-theme->pami)\n",
      "  Downloading docutils-0.21.2-py3-none-any.whl.metadata (2.8 kB)\n",
      "Requirement already satisfied: tomli>=2 in /usr/local/lib/python3.10/dist-packages (from sphinx->pami) (2.0.2)\n",
      "Requirement already satisfied: aiohappyeyeballs>=2.3.0 in /usr/local/lib/python3.10/dist-packages (from aiohttp<4,>=3.7.4->discord.py->pami) (2.4.3)\n",
      "Requirement already satisfied: aiosignal>=1.1.2 in /usr/local/lib/python3.10/dist-packages (from aiohttp<4,>=3.7.4->discord.py->pami) (1.3.1)\n",
      "Requirement already satisfied: attrs>=17.3.0 in /usr/local/lib/python3.10/dist-packages (from aiohttp<4,>=3.7.4->discord.py->pami) (24.2.0)\n",
      "Requirement already satisfied: frozenlist>=1.1.1 in /usr/local/lib/python3.10/dist-packages (from aiohttp<4,>=3.7.4->discord.py->pami) (1.4.1)\n",
      "Requirement already satisfied: multidict<7.0,>=4.5 in /usr/local/lib/python3.10/dist-packages (from aiohttp<4,>=3.7.4->discord.py->pami) (6.1.0)\n",
      "Requirement already satisfied: yarl<2.0,>=1.12.0 in /usr/local/lib/python3.10/dist-packages (from aiohttp<4,>=3.7.4->discord.py->pami) (1.16.0)\n",
      "Requirement already satisfied: async-timeout<5.0,>=4.0 in /usr/local/lib/python3.10/dist-packages (from aiohttp<4,>=3.7.4->discord.py->pami) (4.0.3)\n",
      "Requirement already satisfied: MarkupSafe>=2.0 in /usr/local/lib/python3.10/dist-packages (from Jinja2>=2.3->sphinx->pami) (3.0.2)\n",
      "Requirement already satisfied: jsonschema in /usr/local/lib/python3.10/dist-packages (from JsonForm>=0.0.2->resource->pami) (4.23.0)\n",
      "Requirement already satisfied: six>=1.5 in /usr/local/lib/python3.10/dist-packages (from python-dateutil>=2.7->matplotlib->pami) (1.16.0)\n",
      "Requirement already satisfied: PyYAML in /usr/local/lib/python3.10/dist-packages (from python-easyconfig>=0.1.0->resource->pami) (6.0.2)\n",
      "Requirement already satisfied: charset-normalizer<4,>=2 in /usr/local/lib/python3.10/dist-packages (from requests>=2.5.0->sphinx->pami) (3.4.0)\n",
      "Requirement already satisfied: idna<4,>=2.5 in /usr/local/lib/python3.10/dist-packages (from requests>=2.5.0->sphinx->pami) (3.10)\n",
      "Requirement already satisfied: certifi>=2017.4.17 in /usr/local/lib/python3.10/dist-packages (from requests>=2.5.0->sphinx->pami) (2024.8.30)\n",
      "Requirement already satisfied: typing-extensions>=4.1.0 in /usr/local/lib/python3.10/dist-packages (from multidict<7.0,>=4.5->aiohttp<4,>=3.7.4->discord.py->pami) (4.12.2)\n",
      "Requirement already satisfied: propcache>=0.2.0 in /usr/local/lib/python3.10/dist-packages (from yarl<2.0,>=1.12.0->aiohttp<4,>=3.7.4->discord.py->pami) (0.2.0)\n",
      "Requirement already satisfied: jsonschema-specifications>=2023.03.6 in /usr/local/lib/python3.10/dist-packages (from jsonschema->JsonForm>=0.0.2->resource->pami) (2024.10.1)\n",
      "Requirement already satisfied: referencing>=0.28.4 in /usr/local/lib/python3.10/dist-packages (from jsonschema->JsonForm>=0.0.2->resource->pami) (0.35.1)\n",
      "Requirement already satisfied: rpds-py>=0.7.1 in /usr/local/lib/python3.10/dist-packages (from jsonschema->JsonForm>=0.0.2->resource->pami) (0.20.0)\n",
      "Downloading pami-2024.10.24.2-py3-none-any.whl (1.1 MB)\n",
      "\u001b[2K   \u001b[90m━━━━━━━━━━━━━━━━━━━━━━━━━━━━━━━━━━━━━━━━\u001b[0m \u001b[32m1.1/1.1 MB\u001b[0m \u001b[31m14.0 MB/s\u001b[0m eta \u001b[36m0:00:00\u001b[0m\n",
      "\u001b[?25hDownloading discord.py-2.4.0-py3-none-any.whl (1.1 MB)\n",
      "\u001b[2K   \u001b[90m━━━━━━━━━━━━━━━━━━━━━━━━━━━━━━━━━━━━━━━━\u001b[0m \u001b[32m1.1/1.1 MB\u001b[0m \u001b[31m30.7 MB/s\u001b[0m eta \u001b[36m0:00:00\u001b[0m\n",
      "\u001b[?25hDownloading Resource-0.2.1-py2.py3-none-any.whl (25 kB)\n",
      "Downloading sphinx_rtd_theme-3.0.1-py2.py3-none-any.whl (7.7 MB)\n",
      "\u001b[2K   \u001b[90m━━━━━━━━━━━━━━━━━━━━━━━━━━━━━━━━━━━━━━━━\u001b[0m \u001b[32m7.7/7.7 MB\u001b[0m \u001b[31m56.4 MB/s\u001b[0m eta \u001b[36m0:00:00\u001b[0m\n",
      "\u001b[?25hDownloading sphinx-8.1.3-py3-none-any.whl (3.5 MB)\n",
      "\u001b[2K   \u001b[90m━━━━━━━━━━━━━━━━━━━━━━━━━━━━━━━━━━━━━━━━\u001b[0m \u001b[32m3.5/3.5 MB\u001b[0m \u001b[31m48.6 MB/s\u001b[0m eta \u001b[36m0:00:00\u001b[0m\n",
      "\u001b[?25hDownloading validators-0.34.0-py3-none-any.whl (43 kB)\n",
      "\u001b[2K   \u001b[90m━━━━━━━━━━━━━━━━━━━━━━━━━━━━━━━━━━━━━━━━\u001b[0m \u001b[32m43.5/43.5 kB\u001b[0m \u001b[31m1.8 MB/s\u001b[0m eta \u001b[36m0:00:00\u001b[0m\n",
      "\u001b[?25hDownloading docutils-0.21.2-py3-none-any.whl (587 kB)\n",
      "\u001b[2K   \u001b[90m━━━━━━━━━━━━━━━━━━━━━━━━━━━━━━━━━━━━━━━━\u001b[0m \u001b[32m587.4/587.4 kB\u001b[0m \u001b[31m26.2 MB/s\u001b[0m eta \u001b[36m0:00:00\u001b[0m\n",
      "\u001b[?25hDownloading Python_EasyConfig-0.1.7-py2.py3-none-any.whl (5.4 kB)\n",
      "Downloading sphinxcontrib_jquery-4.1-py2.py3-none-any.whl (121 kB)\n",
      "\u001b[2K   \u001b[90m━━━━━━━━━━━━━━━━━━━━━━━━━━━━━━━━━━━━━━━━\u001b[0m \u001b[32m121.1/121.1 kB\u001b[0m \u001b[31m6.9 MB/s\u001b[0m eta \u001b[36m0:00:00\u001b[0m\n",
      "\u001b[?25hBuilding wheels for collected packages: JsonForm, JsonSir\n",
      "  Building wheel for JsonForm (setup.py) ... \u001b[?25l\u001b[?25hdone\n",
      "  Created wheel for JsonForm: filename=JsonForm-0.0.2-py3-none-any.whl size=3311 sha256=e7329a52dae15bc4134bcaca8d1dc4b07a4b19e727be3a2b855f4909f71e0424\n",
      "  Stored in directory: /root/.cache/pip/wheels/b6/e5/87/11026246d3bd4ad67c0615682d2d6748bbd9a40ac0490882bd\n",
      "  Building wheel for JsonSir (setup.py) ... \u001b[?25l\u001b[?25hdone\n",
      "  Created wheel for JsonSir: filename=JsonSir-0.0.2-py3-none-any.whl size=4753 sha256=c0d496dce314620fbfbc0fc0bb18f426be50c84216ed380b0f8bf0adfe924468\n",
      "  Stored in directory: /root/.cache/pip/wheels/1d/4c/d3/4d9757425983b43eb709be1043d82cd03fb863ce5f56f117e6\n",
      "Successfully built JsonForm JsonSir\n",
      "Installing collected packages: JsonSir, validators, python-easyconfig, docutils, sphinx, sphinxcontrib-jquery, sphinx-rtd-theme, JsonForm, discord.py, resource, pami\n",
      "  Attempting uninstall: docutils\n",
      "    Found existing installation: docutils 0.18.1\n",
      "    Uninstalling docutils-0.18.1:\n",
      "      Successfully uninstalled docutils-0.18.1\n",
      "  Attempting uninstall: sphinx\n",
      "    Found existing installation: Sphinx 5.0.2\n",
      "    Uninstalling Sphinx-5.0.2:\n",
      "      Successfully uninstalled Sphinx-5.0.2\n",
      "Successfully installed JsonForm-0.0.2 JsonSir-0.0.2 discord.py-2.4.0 docutils-0.21.2 pami-2024.10.24.2 python-easyconfig-0.1.7 resource-0.2.1 sphinx-8.1.3 sphinx-rtd-theme-3.0.1 sphinxcontrib-jquery-4.1 validators-0.34.0\n"
     ]
    }
   ],
   "source": [
    "!pip install -U pami"
   ]
  },
  {
   "cell_type": "markdown",
   "metadata": {
    "id": "nINT3n_frRj3"
   },
   "source": [
    "2. Downloading a sample dataset"
   ]
  },
  {
   "cell_type": "code",
   "execution_count": 2,
   "metadata": {
    "colab": {
     "base_uri": "https://localhost:8080/"
    },
    "id": "hZFTwgLy9jyg",
    "outputId": "4d4f772e-3ddd-453a-f6fd-3ef66f9cffdc"
   },
   "outputs": [
    {
     "name": "stdout",
     "output_type": "stream",
     "text": [
      "--2024-10-29 05:48:27--  https://www.dropbox.com/scl/fi/c2xdmns7rprxnkgd9h3gb/airPollution.csv?rlkey=q7zoop7mi2n4z3qi94lpc1jlf\n",
      "Resolving www.dropbox.com (www.dropbox.com)... 162.125.1.18, 2620:100:6031:18::a27d:5112\n",
      "Connecting to www.dropbox.com (www.dropbox.com)|162.125.1.18|:443... connected.\n",
      "HTTP request sent, awaiting response... 302 Found\n",
      "Location: https://ucba0397d27cc0bea184f285a81a.dl.dropboxusercontent.com/cd/0/inline/CdWDiWvNTDyjxaA_Fq430pJd5-DwK15OQg24ikF0hDvC7fYq87yS2t0jqIL9oxvodUwvyg-nzrnjPFmV1l3TQ3Ri0P13gAwVT6Wge0JR7Ldj3CTD-ewYqFyq1-cw9d86uCb0XVCO052EvCp87yuxtF2h/file# [following]\n",
      "--2024-10-29 05:48:28--  https://ucba0397d27cc0bea184f285a81a.dl.dropboxusercontent.com/cd/0/inline/CdWDiWvNTDyjxaA_Fq430pJd5-DwK15OQg24ikF0hDvC7fYq87yS2t0jqIL9oxvodUwvyg-nzrnjPFmV1l3TQ3Ri0P13gAwVT6Wge0JR7Ldj3CTD-ewYqFyq1-cw9d86uCb0XVCO052EvCp87yuxtF2h/file\n",
      "Resolving ucba0397d27cc0bea184f285a81a.dl.dropboxusercontent.com (ucba0397d27cc0bea184f285a81a.dl.dropboxusercontent.com)... 162.125.81.15, 2620:100:6035:15::a27d:550f\n",
      "Connecting to ucba0397d27cc0bea184f285a81a.dl.dropboxusercontent.com (ucba0397d27cc0bea184f285a81a.dl.dropboxusercontent.com)|162.125.81.15|:443... connected.\n",
      "HTTP request sent, awaiting response... 200 OK\n",
      "Length: 3004358 (2.9M) [text/plain]\n",
      "Saving to: ‘airPollution.csv?rlkey=q7zoop7mi2n4z3qi94lpc1jlf’\n",
      "\n",
      "airPollution.csv?rl 100%[===================>]   2.86M  7.51MB/s    in 0.4s    \n",
      "\n",
      "2024-10-29 05:48:30 (7.51 MB/s) - ‘airPollution.csv?rlkey=q7zoop7mi2n4z3qi94lpc1jlf’ saved [3004358/3004358]\n",
      "\n"
     ]
    }
   ],
   "source": [
    "!wget -nc https://github.com/UdayLab/PAMI/tree/main/notebooks/sequencePatternMining/basic/airDatabase.txt"
   ]
  },
  {
   "cell_type": "markdown",
   "metadata": {
    "id": "mAOOrA66vz4P"
   },
   "source": [
    "3 Printing few lines of a dataset to know its format."
   ]
  },
  {
   "cell_type": "code",
   "execution_count": 3,
   "metadata": {
    "colab": {
     "base_uri": "https://localhost:8080/"
    },
    "id": "n7QT-TyYDGYm",
    "outputId": "2fd8b57b-614d-4e08-ae77-685deb376f44"
   },
   "outputs": [
    {
     "name": "stdout",
     "output_type": "stream",
     "text": [
      "head: cannot open 'airDatabase.txt' for reading: No such file or directory\n"
     ]
    }
   ],
   "source": [
    "!head -2 airDatabase.txt"
   ]
  },
  {
   "cell_type": "markdown",
   "metadata": {
    "id": "fVfNN0nFu_BQ"
   },
   "source": [
    "_format:_ every row contains items seperated by a seperator in one sequence.\n",
    "        _ every row contains subsequence seperated by a \"-1\".\n",
    "        _ every row contains sequence seperated by a \"-2\".\n",
    "\n",
    "__Example:__\n",
    "\n",
    "item1 item2 -1 item3 item4 -1 -2\n",
    "\n",
    "item1 item4 -1 item6 -1 -2"
   ]
  },
  {
   "cell_type": "markdown",
   "metadata": {
    "id": "CHqnUT1qv978"
   },
   "source": [
    "## Part 1: Finding frequent sequential patterns with lengths shorter than specified using prefixSpan"
   ]
  },
  {
   "cell_type": "markdown",
   "metadata": {
    "id": "11vhKtCbv-8H"
   },
   "source": [
    "### Step 1: Understanding the statistics of a sequence database"
   ]
  },
  {
   "cell_type": "code",
   "execution_count": 24,
   "metadata": {
    "colab": {
     "base_uri": "https://localhost:8080/",
     "height": 311
    },
    "id": "n9bpMZOFQEpa",
    "outputId": "6401bc4d-46f0-4566-ff15-a37681155b32"
   },
   "outputs": [],
   "source": [
    "#import the class file\n",
    "from PAMI.extras.dbStats import SequentialDatabase as stats\n",
    "\n",
    "#specify the file name\n",
    "inputFile = 'airDatabase.txt'\n",
    "\n",
    "#initialize the class\n",
    "obj=stats.SequentialDatabase(inputFile,sep='\\t')\n",
    "\n",
    "#execute the class\n",
    "obj.readDatabase()"
   ]
  },
  {
   "cell_type": "markdown",
   "metadata": {
    "id": "yKCk0AbNT9I_"
   },
   "source": [
    "### Step 2: Draw the items' frequency graph and sequence length's distribution graphs for more information"
   ]
  },
  {
   "cell_type": "code",
   "execution_count": 2,
   "metadata": {
    "id": "Zr6hWoAXT_0b"
   },
   "outputs": [
    {
     "name": "stdout",
     "output_type": "stream",
     "text": [
      "Database size (total no of sequence) : 135\n",
      "Number of items : 121\n",
      "Minimum Sequence Size : 1\n",
      "Average Sequence Size : 20.955555555555556\n",
      "Maximum Sequence Size : 24\n",
      "Standard Deviation Sequence Size : 6.568010766746562\n",
      "Variance in Sequence Sizes : 43.460696517412934\n",
      "Sequence size (total no of subsequence) : 2829\n",
      "Minimum subSequence Size : 1\n",
      "Average subSequence Size : 18.83457051961824\n",
      "Maximum subSequence Size : 104\n",
      "Standard Deviation Sequence Size : 18.84802364721196\n",
      "Variance in Sequence Sizes : 355.37361350890427\n"
     ]
    }
   ],
   "source": [
    "obj.printStats()"
   ]
  },
  {
   "cell_type": "markdown",
   "metadata": {
    "id": "yuBbe3UNxIjY"
   },
   "source": [
    "### Step 3: Choosing an appropriate *minSup* value and *maxGap*"
   ]
  },
  {
   "cell_type": "code",
   "execution_count": 25,
   "metadata": {
    "id": "FoX7jadOg6EZ"
   },
   "outputs": [],
   "source": [
    "minSup= 0.4 #minSup is specified in count. However, the users can also specify minSup between 0 and 1.\n",
    "maxGap=4 #maxGap shold be int and more than 0"
   ]
  },
  {
   "cell_type": "markdown",
   "metadata": {
    "id": "ePs9MPnJUYyY"
   },
   "source": [
    "### Step 4:Mining frequent sequence patterns using prefixSpan"
   ]
  },
  {
   "cell_type": "code",
   "execution_count": 26,
   "metadata": {
    "id": "jk12PYvHIqtn"
   },
   "outputs": [
    {
     "name": "stdout",
     "output_type": "stream",
     "text": [
      "0.05209803581237793\n",
      "0.052195072174072266\n",
      "Frequent patterns were generated successfully using prefixSpan algorithm \n",
      "Total Memory in USS: 246816768\n",
      "Total Memory in RSS 283996160\n",
      "Total ExecutionTime in ms: 5.089320182800293\n",
      "Total number of Frequent Patterns: 870\n"
     ]
    }
   ],
   "source": [
    "from PAMI.sequentialPattern.basic import PrefixSpan as alg\n",
    "\n",
    "\n",
    "_ap = alg.PrefixSpan('airDatabase.txt', minSup, '\\t',maxGap=maxGap)\n",
    "_ap.startMine()\n",
    "_Patterns = _ap.getPatterns()\n",
    "_memUSS = _ap.getMemoryUSS()\n",
    "print(\"Total Memory in USS:\", _memUSS)\n",
    "_memRSS = _ap.getMemoryRSS()\n",
    "print(\"Total Memory in RSS\", _memRSS)\n",
    "_run = _ap.getRuntime()\n",
    "print(\"Total ExecutionTime in ms:\", _run)\n",
    "print(\"Total number of Frequent Patterns:\", len(_Patterns))\n",
    "_ap.save(\"results.txt\")"
   ]
  },
  {
   "cell_type": "markdown",
   "metadata": {
    "id": "QlhSr4KTxO-1"
   },
   "source": [
    "### Step 5: Investigating the generated patterns\n",
    "Open the patterns' file and investigate the generated patterns. If the generated patterns were interesting, use them; otherwise, redo the Steps 3 and 4 with a different minSup value."
   ]
  },
  {
   "cell_type": "code",
   "execution_count": 27,
   "metadata": {
    "id": "OZ66biYdii-k"
   },
   "outputs": [
    {
     "name": "stdout",
     "output_type": "stream",
     "text": [
      "['POINT(130.2113464,32.7321302)', '-1']:57 \n",
      "['POINT(130.3597423,33.5840497)', '-1']:54 \n",
      "['POINT(130.4674218,32.9808242)', '-1']:81 \n",
      "['POINT(130.4674218,32.9808242)', 'POINT(130.601994,32.507843)', '-1']:55 \n",
      "['POINT(130.4674218,32.9808242)', 'POINT(132.7326196,33.8884275)', '-1']:65 \n",
      "['POINT(130.4674218,32.9808242)', 'POINT(136.6548337,35.0051925)', '-1']:66 \n",
      "['POINT(130.4674218,32.9808242)', 'POINT(136.6548337,35.0051925)', '-1', 'POINT(130.4674218,32.9808242)', '-1']:54 \n",
      "['POINT(130.4674218,32.9808242)', 'POINT(130.9612121,33.8854016)', '-1']:64 \n",
      "['POINT(130.4674218,32.9808242)', 'POINT(130.9612121,33.8854016)', '-1', 'POINT(130.9612121,33.8854016)', '-1']:55 \n",
      "['POINT(130.4674218,32.9808242)', '-1', 'POINT(130.4674218,32.9808242)', '-1']:59 \n"
     ]
    }
   ],
   "source": [
    "!head results.txt"
   ]
  },
  {
   "cell_type": "markdown",
   "metadata": {
    "id": "-cBs3nk4xZLA"
   },
   "source": [
    "The storage format is: _frequentPattern:support_"
   ]
  },
  {
   "cell_type": "markdown",
   "metadata": {
    "id": "oogJQyBqxUfq"
   },
   "source": [
    "## Part 2: Evaluating the prefixSpan algorithm on a dataset at different MaxGap values"
   ]
  },
  {
   "cell_type": "markdown",
   "metadata": {
    "id": "VdaiEmk6xfhX"
   },
   "source": [
    "### Step 1: Import the libraries and specify the input parameters"
   ]
  },
  {
   "cell_type": "code",
   "execution_count": 28,
   "metadata": {
    "id": "PXegE9bFjEDs"
   },
   "outputs": [],
   "source": [
    "#Import the libraries\n",
    "from PAMI.sequentialPattern.basic import PrefixSpan as alg #import the algorithm\n",
    "import pandas as pd\n",
    "\n",
    "#Specify the input parameters\n",
    "inputFile = \"airDatabase.txt\"\n",
    "seperator='\\t'\n",
    "minSupCount= 0.4\n",
    "maximumGapList = [2,3,4,5,6,7]\n",
    "#minimumSupport can also specified between 0 to 1. E.g., minSupList = [0.005, 0.006, 0.007, 0.008, 0.009]"
   ]
  },
  {
   "cell_type": "code",
   "execution_count": 29,
   "metadata": {
    "id": "bhgilHZXjG97"
   },
   "outputs": [],
   "source": [
    "result = pd.DataFrame(columns=['algorithm', 'minSup',\"maxGap\" ,'patterns', 'runtime', 'memory'])\n",
    "#initialize a data frame to store the results of prefixSpan algorithm"
   ]
  },
  {
   "cell_type": "code",
   "execution_count": 30,
   "metadata": {
    "colab": {
     "base_uri": "https://localhost:8080/"
    },
    "id": "6dMPp4H4jJPc",
    "outputId": "08ffff3c-a719-471d-c754-ed605f0d0399"
   },
   "outputs": [
    {
     "name": "stdout",
     "output_type": "stream",
     "text": [
      "0.05330920219421387\n",
      "0.0534052848815918\n",
      "Frequent patterns were generated successfully using prefixSpan algorithm \n",
      "0.05083060264587402\n",
      "0.05086326599121094\n",
      "Frequent patterns were generated successfully using prefixSpan algorithm \n",
      "0.05088233947753906\n",
      "0.050913333892822266\n",
      "Frequent patterns were generated successfully using prefixSpan algorithm \n",
      "0.05080270767211914\n",
      "0.05083060264587402\n",
      "Frequent patterns were generated successfully using prefixSpan algorithm \n",
      "0.05076169967651367\n",
      "0.05079030990600586\n",
      "Frequent patterns were generated successfully using prefixSpan algorithm \n",
      "0.05147719383239746\n",
      "0.05150723457336426\n",
      "Frequent patterns were generated successfully using prefixSpan algorithm \n"
     ]
    }
   ],
   "source": [
    "for maxGap in maximumGapList:\n",
    "    obj = alg.PrefixSpan(inputFile, minSup=minSupCount,sep=seperator,maxGap=maxGap)\n",
    "    obj.startMine()\n",
    "    #store the results in the data frame\n",
    "    result.loc[result.shape[0]] = ['prefixSpan', minSupCount,maxGap, len(obj.getPatterns()), obj.getRuntime(), obj.getMemoryRSS()]"
   ]
  },
  {
   "cell_type": "code",
   "execution_count": 31,
   "metadata": {
    "colab": {
     "base_uri": "https://localhost:8080/"
    },
    "id": "yUhnEPCAkD-P",
    "outputId": "24e058db-b105-4cd1-80d4-99d5eb3616d1"
   },
   "outputs": [
    {
     "name": "stdout",
     "output_type": "stream",
     "text": [
      "    algorithm  minSup  maxGap  patterns    runtime     memory\n",
      "0  prefixSpan     0.4       2       244   3.981484  283885568\n",
      "1  prefixSpan     0.4       3       434   4.276574  283885568\n",
      "2  prefixSpan     0.4       4       870   5.061490  283885568\n",
      "3  prefixSpan     0.4       5      1959   6.646942  283885568\n",
      "4  prefixSpan     0.4       6      3814   8.822992  283885568\n",
      "5  prefixSpan     0.4       7      7662  13.526026  287408128\n"
     ]
    }
   ],
   "source": [
    "print(result)"
   ]
  },
  {
   "cell_type": "code",
   "execution_count": null,
   "metadata": {},
   "outputs": [],
   "source": []
  }
 ],
 "metadata": {
  "colab": {
   "provenance": []
  },
  "kernelspec": {
   "display_name": "Python 3 (ipykernel)",
   "language": "python",
   "name": "python3"
  },
  "language_info": {
   "codemirror_mode": {
    "name": "ipython",
    "version": 3
   },
   "file_extension": ".py",
   "mimetype": "text/x-python",
   "name": "python",
   "nbconvert_exporter": "python",
   "pygments_lexer": "ipython3",
   "version": "3.10.14"
  }
 },
 "nbformat": 4,
 "nbformat_minor": 4
}
